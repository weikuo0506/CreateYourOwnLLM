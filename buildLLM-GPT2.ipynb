{
 "cells": [
  {
   "metadata": {},
   "cell_type": "markdown",
   "source": [
    "### reBuild GPT2\n",
    "- Large means vast of parameters, 124M for GPT2"
   ],
   "id": "7fa79ab229628522"
  },
  {
   "metadata": {
    "ExecuteTime": {
     "end_time": "2025-06-04T12:05:55.823948Z",
     "start_time": "2025-06-04T12:05:55.821238Z"
    }
   },
   "cell_type": "code",
   "source": [
    "GPT_CONFIG_124M = {\n",
    "    \"vocab_size\": 50257,    # Vocabulary size\n",
    "    \"context_length\": 1024, # Context length\n",
    "    \"emb_dim\": 768,         # Embedding dimension\n",
    "    \"n_heads\": 12,          # Number of attention heads\n",
    "    \"n_layers\": 12,         # Number of layers\n",
    "    \"drop_rate\": 0.1,       # Dropout rate\n",
    "    \"qkv_bias\": False       # Query-Key-Value bias\n",
    "}"
   ],
   "id": "initial_id",
   "outputs": [],
   "execution_count": 9
  },
  {
   "metadata": {
    "ExecuteTime": {
     "end_time": "2025-06-04T12:42:36.675950Z",
     "start_time": "2025-06-04T12:42:36.658642Z"
    }
   },
   "cell_type": "code",
   "source": [
    "import torch\n",
    "import torch.nn as nn\n",
    "\n",
    "class DummyGPT2(nn.Module):\n",
    "    def __init__(self, cfg):\n",
    "        super().__init__()\n",
    "        self.token_emb = nn.Embedding(cfg[\"vocab_size\"], cfg[\"emb_dim\"])\n",
    "        self.pos_emb = nn.Embedding(cfg[\"context_length\"], cfg[\"emb_dim\"])\n",
    "        self.drop = nn.Dropout(cfg[\"drop_rate\"])\n",
    "\n",
    "        self.blocks = nn.Sequential(*[DummyTransformerBlock(cfg) for _ in range(cfg[\"n_layers\"])])\n",
    "\n",
    "        self.final_norm = DummyLayerNorm(cfg[\"emb_dim\"])\n",
    "        self.out_head = nn.Linear(cfg[\"emb_dim\"], cfg[\"vocab_size\"], bias=False)\n",
    "\n",
    "    def forward(self, token_ids):\n",
    "        batch_size, seq_len = token_ids.shape\n",
    "        token_emb = self.token_emb(token_ids)\n",
    "        pos_emb = self.pos_emb(torch.arange(seq_len, device=token_ids.device))\n",
    "        x = token_emb + pos_emb\n",
    "        x = self.drop(x)\n",
    "        x = self.blocks(x)\n",
    "        x = self.final_norm(x)\n",
    "        logits = self.out_head(x)\n",
    "        return logits\n",
    "\n",
    "class DummyTransformerBlock(nn.Module):\n",
    "    def __init__(self, cfg):\n",
    "        super().__init__()\n",
    "\n",
    "    def forward(self, x):\n",
    "        return x\n",
    "\n",
    "class DummyLayerNorm(nn.Module):\n",
    "    def __init__(self, cfg):\n",
    "        super().__init__()\n",
    "\n",
    "    def forward(self, x):\n",
    "        return x"
   ],
   "id": "8257934d6ddfe525",
   "outputs": [],
   "execution_count": 16
  },
  {
   "metadata": {
    "ExecuteTime": {
     "end_time": "2025-06-04T12:46:43.801526Z",
     "start_time": "2025-06-04T12:46:43.795489Z"
    }
   },
   "cell_type": "code",
   "source": [
    "import torch\n",
    "import tiktoken\n",
    "\n",
    "tokenizer = tiktoken.get_encoding(\"gpt2\")\n",
    "\n",
    "texts = [\"Once upon a time there\", \"were four little Rabbits\"]\n",
    "batch = torch.stack([torch.tensor(tokenizer.encode(t)) for t in texts])\n",
    "print(batch)\n"
   ],
   "id": "1661a9f180d58ae1",
   "outputs": [
    {
     "name": "stdout",
     "output_type": "stream",
     "text": [
      "tensor([[ 7454,  2402,   257,   640,   612],\n",
      "        [22474,  1440,  1310, 22502,   896]])\n"
     ]
    }
   ],
   "execution_count": 26
  },
  {
   "metadata": {
    "ExecuteTime": {
     "end_time": "2025-06-05T01:53:51.979795Z",
     "start_time": "2025-06-05T01:53:51.331912Z"
    }
   },
   "cell_type": "code",
   "source": [
    "torch.manual_seed(123)\n",
    "model = DummyGPT2(GPT_CONFIG_124M)\n",
    "\n",
    "logits = model(batch)\n",
    "print(\"Output shape:\", logits.shape)\n",
    "print(logits)"
   ],
   "id": "dd7f652d73fa2c72",
   "outputs": [
    {
     "name": "stdout",
     "output_type": "stream",
     "text": [
      "Output shape: torch.Size([2, 5, 50257])\n",
      "tensor([[[-0.1453, -0.5939,  0.3767,  ...,  0.4361,  0.3913,  1.1740],\n",
      "         [ 0.2646,  0.5527, -1.0897,  ...,  0.3165,  0.7068,  1.9168],\n",
      "         [-0.2009, -0.7217,  0.7162,  ...,  0.6297,  0.6221, -0.1177],\n",
      "         [ 0.1959,  0.4116,  1.1859,  ...,  2.2309,  0.2540,  0.7609],\n",
      "         [-0.4772, -0.7713,  0.6711,  ...,  0.9593, -1.1426, -1.0256]],\n",
      "\n",
      "        [[-0.7387,  0.2473, -2.2699,  ..., -0.9243, -1.1297,  0.1037],\n",
      "         [-0.5791,  1.0997, -0.4741,  ..., -0.7711,  0.9321,  1.0572],\n",
      "         [ 0.7911,  1.0512,  0.4935,  ...,  0.8441, -0.2399, -0.5090],\n",
      "         [ 1.1721,  0.9144, -0.7984,  ...,  1.6035,  0.5685,  1.0169],\n",
      "         [-1.0692, -1.7418,  0.1271,  ...,  0.1854, -0.5162, -0.7783]]],\n",
      "       grad_fn=<UnsafeViewBackward0>)\n"
     ]
    }
   ],
   "execution_count": 226
  },
  {
   "metadata": {},
   "cell_type": "markdown",
   "source": "### Layer Norm",
   "id": "c6360de99b7446d"
  },
  {
   "metadata": {
    "ExecuteTime": {
     "end_time": "2025-06-04T13:10:23.243135Z",
     "start_time": "2025-06-04T13:10:23.237178Z"
    }
   },
   "cell_type": "code",
   "source": [
    "torch.manual_seed(123)\n",
    "\n",
    "batch_example = torch.randn(2, 5)\n",
    "\n",
    "layer = nn.Sequential(nn.Linear(5,6),nn.ReLU())\n",
    "out = layer(batch_example)\n",
    "print(out)\n",
    "\n",
    "mean = out.mean(dim=-1, keepdim=True)\n",
    "var = out.var(dim=-1, unbiased=False, keepdim=True)\n",
    "print(\"mean:\\n\", mean)\n",
    "print(\"var:\\n\", var)"
   ],
   "id": "931493ccbaf0d132",
   "outputs": [
    {
     "name": "stdout",
     "output_type": "stream",
     "text": [
      "tensor([[0.2260, 0.3470, 0.0000, 0.2216, 0.0000, 0.0000],\n",
      "        [0.2133, 0.2394, 0.0000, 0.5198, 0.3297, 0.0000]],\n",
      "       grad_fn=<ReluBackward0>)\n",
      "mean:\n",
      " tensor([[0.1324],\n",
      "        [0.2170]], grad_fn=<MeanBackward1>)\n",
      "var:\n",
      " tensor([[0.0192],\n",
      "        [0.0332]], grad_fn=<VarBackward0>)\n"
     ]
    }
   ],
   "execution_count": 118
  },
  {
   "metadata": {
    "ExecuteTime": {
     "end_time": "2025-06-04T13:10:50.571018Z",
     "start_time": "2025-06-04T13:10:50.564645Z"
    }
   },
   "cell_type": "code",
   "source": [
    "torch.manual_seed(123)\n",
    "\n",
    "batch_example = torch.randn(2, 5)\n",
    "\n",
    "layer = nn.Sequential(nn.Linear(5,6),nn.ReLU(),nn.LayerNorm(6))\n",
    "out = layer(batch_example)\n",
    "print(out)\n",
    "\n",
    "mean = out.mean(dim=-1, keepdim=True)\n",
    "var = out.var(dim=-1, unbiased=False, keepdim=True)\n",
    "print(\"mean:\\n\", mean)\n",
    "print(\"var:\\n\", var)"
   ],
   "id": "aa02520974159659",
   "outputs": [
    {
     "name": "stdout",
     "output_type": "stream",
     "text": [
      "tensor([[ 0.6745,  1.5470, -0.9549,  0.6431, -0.9549, -0.9549],\n",
      "        [-0.0207,  0.1228, -1.1913,  1.6619,  0.6186, -1.1913]],\n",
      "       grad_fn=<NativeLayerNormBackward0>)\n",
      "mean:\n",
      " tensor([[-4.9671e-08],\n",
      "        [-1.9868e-08]], grad_fn=<MeanBackward1>)\n",
      "var:\n",
      " tensor([[0.9995],\n",
      "        [0.9997]], grad_fn=<VarBackward0>)\n"
     ]
    }
   ],
   "execution_count": 128
  },
  {
   "metadata": {},
   "cell_type": "markdown",
   "source": "### Activations: Relu, GELU, SwiGLU\n",
   "id": "fd1c39109385079a"
  },
  {
   "metadata": {},
   "cell_type": "code",
   "outputs": [
    {
     "data": {
      "text/plain": [
       "<Figure size 800x300 with 2 Axes>"
      ],
      "image/png": "[encoded data removed]"
     },
     "metadata": {},
     "output_type": "display_data"
    }
   ],
   "execution_count": 219,
   "source": [
    "import torch\n",
    "import torch.nn as nn\n",
    "import matplotlib.pyplot as plt\n",
    "\n",
    "x = torch.linspace(-3, 3, 100)\n",
    "activations = {\n",
    "    \"ReLU\": nn.ReLU(),\n",
    "    \"GELU\": nn.GELU()\n",
    "}\n",
    "\n",
    "plt.figure(figsize=(8, 3))\n",
    "for i, (name, fn) in enumerate(activations.items(), 1):\n",
    "    plt.subplot(1, 2, i)\n",
    "    plt.plot(x, fn(x))\n",
    "    plt.title(name)\n",
    "    plt.xlabel(\"x\")\n",
    "    plt.ylabel(f\"{name}(x)\")\n",
    "    plt.grid(True)\n",
    "\n",
    "plt.tight_layout()\n",
    "plt.show()\n"
   ],
   "id": "f8acca4858e041f6"
  },
  {
   "metadata": {},
   "cell_type": "code",
   "outputs": [
    {
     "data": {
      "text/plain": [
       "<Figure size 1200x300 with 3 Axes>"
      ],
      "image/png": "[encoded data removed]"
     },
     "metadata": {},
     "output_type": "display_data"
    }
   ],
   "execution_count": 225,
   "source": [
    "import torch\n",
    "import torch.nn as nn\n",
    "import torch.nn.functional as F\n",
    "import matplotlib.pyplot as plt\n",
    "\n",
    "class SwiGLU_Simple(nn.Module):\n",
    "    def forward(self, x):\n",
    "        return x * F.silu(x)\n",
    "\n",
    "# 实例化激活函数\n",
    "gelu = nn.GELU()\n",
    "relu = nn.ReLU()\n",
    "swiglu = SwiGLU_Simple()\n",
    "\n",
    "# 测试输入\n",
    "x = torch.linspace(-5, 5, 200)\n",
    "\n",
    "# 计算输出\n",
    "y_gelu = gelu(x)\n",
    "y_relu = relu(x)\n",
    "y_swiglu = swiglu(x)\n",
    "\n",
    "# 画图\n",
    "plt.figure(figsize=(12, 3))\n",
    "for i, (y, label) in enumerate(zip(\n",
    "    [y_relu, y_gelu, y_swiglu], [\"ReLU\", \"GELU\", \"SwiGLU\"]), 1):\n",
    "    plt.subplot(1, 3, i)\n",
    "    plt.plot(x.numpy(), y.detach().numpy(), label=label)\n",
    "    plt.title(f\"{label} activation\")\n",
    "    plt.xlabel(\"x\")\n",
    "    plt.ylabel(f\"{label}(x)\")\n",
    "    plt.grid(True)\n",
    "\n",
    "plt.tight_layout()\n",
    "plt.show()\n"
   ],
   "id": "a3357a02530b8855"
  },
  {
   "metadata": {},
   "cell_type": "markdown",
   "source": [
    "### FeedForward with Gelu\n",
    "\n",
    "In Transformers, the FFN is used after the attention mechanism to:\n",
    "- Introduce nonlinearity: Attention is linear; FFN brings nonlinear learning capacity.\n",
    "- Improve representation: Increases model depth and ability to model complex patterns.\n",
    "- Operate per token: FFN acts on each token separately, without token-to-token interaction."
   ],
   "id": "de6c580743490fea"
  },
  {
   "metadata": {},
   "cell_type": "code",
   "outputs": [],
   "execution_count": 130,
   "source": [
    "class FeedForward(nn.Module):\n",
    "    def __init__(self, cfg):\n",
    "        super().__init__()\n",
    "        self.layers = nn.Sequential(nn.Linear(cfg[\"emb_dim\"], 4*cfg[\"emb_dim\"]), nn.GELU(), nn.Linear(4*cfg[\"emb_dim\"], cfg[\"emb_dim\"]))\n",
    "\n",
    "    def forward(self, x):\n",
    "        return self.layers(x)"
   ],
   "id": "78da61e86b543a84"
  },
  {
   "metadata": {},
   "cell_type": "code",
   "outputs": [
    {
     "name": "stdout",
     "output_type": "stream",
     "text": [
      "model structure: \n",
      " FeedForward(\n",
      "  (layers): Sequential(\n",
      "    (0): Linear(in_features=768, out_features=3072, bias=True)\n",
      "    (1): GELU(approximate='none')\n",
      "    (2): Linear(in_features=3072, out_features=768, bias=True)\n",
      "  )\n",
      ")\n"
     ]
    }
   ],
   "execution_count": 142,
   "source": "print(\"model structure: \\n\",FeedForward(GPT_CONFIG_124M))",
   "id": "56e6af372b84cdb4"
  },
  {
   "metadata": {},
   "cell_type": "markdown",
   "source": "### ShortCut connections\n",
   "id": "1883843d9df5a51a"
  },
  {
   "metadata": {
    "ExecuteTime": {
     "end_time": "2025-06-04T13:39:54.255895Z",
     "start_time": "2025-06-04T13:39:54.246504Z"
    }
   },
   "cell_type": "code",
   "source": [
    "import torch\n",
    "import torch.nn as nn\n",
    "\n",
    "class ExampleDeepNeuralNetwork(nn.Module):\n",
    "    def __init__(self, layer_sizes, use_shortcut):\n",
    "        super().__init__()\n",
    "        self.use_shortcut = use_shortcut\n",
    "        self.layers = nn.ModuleList(nn.Sequential(nn.Linear(layer_sizes[i], layer_sizes[i+1]), nn.GELU()) for i in range(len(layer_sizes)-1))\n",
    "    def forward(self, x):\n",
    "        for i, layer in enumerate(self.layers):\n",
    "            out = layer(x)\n",
    "            if self.use_shortcut and x.shape[-1] == out.shape[-1]:\n",
    "                x = x + out\n",
    "            else:\n",
    "                x = out\n",
    "        return x\n",
    "\n",
    "def print_gradients(model,x):\n",
    "    output = model(x)\n",
    "    target = torch.zeros_like(output)\n",
    "    loss = nn.MSELoss()(output, target)\n",
    "    loss.backward()\n",
    "\n",
    "    for name, param in model.named_parameters():\n",
    "        if param.grad is not None and 'weight' in name:\n",
    "            print(f\"{name} has gradient mean of {param.grad.abs().mean().item()}\")"
   ],
   "id": "60d9de211e4a3679",
   "outputs": [],
   "execution_count": 149
  },
  {
   "metadata": {
    "ExecuteTime": {
     "end_time": "2025-06-04T13:44:09.617374Z",
     "start_time": "2025-06-04T13:44:09.610145Z"
    }
   },
   "cell_type": "code",
   "source": [
    "layer_sizes = [3] * 5 + [1]\n",
    "\n",
    "x = torch.randn(1, 3)\n",
    "\n",
    "torch.manual_seed(123)\n",
    "model = ExampleDeepNeuralNetwork(\n",
    "    layer_sizes, use_shortcut=False\n",
    ")\n",
    "print_gradients(model, x)"
   ],
   "id": "8e1a6febe718ec3f",
   "outputs": [
    {
     "name": "stdout",
     "output_type": "stream",
     "text": [
      "layers.0.0.weight has gradient mean of 0.00026235237601213157\n",
      "layers.1.0.weight has gradient mean of 8.274786523543298e-05\n",
      "layers.2.0.weight has gradient mean of 0.0007381783216260374\n",
      "layers.3.0.weight has gradient mean of 0.0012937318533658981\n",
      "layers.4.0.weight has gradient mean of 0.004788137506693602\n"
     ]
    }
   ],
   "execution_count": 210
  },
  {
   "metadata": {
    "ExecuteTime": {
     "end_time": "2025-06-04T13:44:34.479476Z",
     "start_time": "2025-06-04T13:44:34.473223Z"
    }
   },
   "cell_type": "code",
   "source": [
    "layer_sizes = [3] * 5 + [1]\n",
    "\n",
    "x = torch.randn(1, 3)\n",
    "\n",
    "torch.manual_seed(123)\n",
    "model = ExampleDeepNeuralNetwork(\n",
    "    layer_sizes, use_shortcut=True\n",
    ")\n",
    "print_gradients(model, x)"
   ],
   "id": "f4d27016d9cd9eaf",
   "outputs": [
    {
     "name": "stdout",
     "output_type": "stream",
     "text": [
      "layers.0.0.weight has gradient mean of 0.16460204124450684\n",
      "layers.1.0.weight has gradient mean of 0.17733019590377808\n",
      "layers.2.0.weight has gradient mean of 0.1964351385831833\n",
      "layers.3.0.weight has gradient mean of 0.10792218148708344\n",
      "layers.4.0.weight has gradient mean of 0.6378514766693115\n"
     ]
    }
   ],
   "execution_count": 213
  },
  {
   "metadata": {},
   "cell_type": "markdown",
   "source": "### Transformer",
   "id": "72a7c83f46a9d4dd"
  },
  {
   "metadata": {
    "ExecuteTime": {
     "end_time": "2025-06-05T01:20:01.518770Z",
     "start_time": "2025-06-05T01:20:01.472444Z"
    }
   },
   "cell_type": "code",
   "source": [
    "import torch\n",
    "import torch.nn as nn\n",
    "\n",
    "class MultiHeadAttention(nn.Module):\n",
    "    \"\"\"\n",
    "    Implements multi-head attention by splitting the attention matrix into multiple heads.\n",
    "    \"\"\"\n",
    "\n",
    "    def __init__(self, d_in, d_out, context_length, dropout, num_heads, qkv_bias=False):\n",
    "        super().__init__()\n",
    "        assert d_out % num_heads == 0, \"d_out must be divisible by num_heads\"\n",
    "        self.d_out = d_out\n",
    "        self.num_heads = num_heads\n",
    "        self.head_dim = d_out // num_heads\n",
    "\n",
    "        self.W_Q = nn.Linear(d_in, d_out, bias=qkv_bias)\n",
    "        self.W_K = nn.Linear(d_in, d_out, bias=qkv_bias)\n",
    "        self.W_V = nn.Linear(d_in, d_out, bias=qkv_bias)\n",
    "        self.out_proj = nn.Linear(d_out, d_out)\n",
    "        self.dropout = nn.Dropout(dropout)\n",
    "\n",
    "        mask = torch.triu(torch.ones(context_length, context_length), diagonal=1)\n",
    "        self.register_buffer(\"mask\", mask.bool())\n",
    "\n",
    "    def forward(self, x):\n",
    "        \"\"\"\n",
    "        x: shape (batch_size, seq_len, d_in)\n",
    "        \"\"\"\n",
    "        batch_size, seq_len, _ = x.size()\n",
    "\n",
    "        # Split Q, K, V into multiple heads\n",
    "        # (batch_size, seq_len, d_in) -> (batch_size, seq_len, d_out) ->\n",
    "        # -> (batch_size, seq_len, num_heads, head_dim) -> (batch_size, num_heads, seq_len, head_dim)\n",
    "        Q = self.W_Q(x).view(batch_size, seq_len, self.num_heads, self.head_dim).transpose(1, 2)\n",
    "        K = self.W_K(x).view(batch_size, seq_len, self.num_heads, self.head_dim).transpose(1, 2)\n",
    "        V = self.W_V(x).view(batch_size, seq_len, self.num_heads, self.head_dim).transpose(1, 2)\n",
    "\n",
    "        # Compute attention scores\n",
    "        scores = Q @ K.transpose(-2, -1) / (self.d_out ** 0.5)  # (batch_size, num_heads, seq_len, seq_len)\n",
    "\n",
    "        # Apply causal mask\n",
    "        scores = scores.masked_fill(self.mask[:seq_len, :seq_len], -torch.inf)\n",
    "\n",
    "        # Compute softmax weights and apply dropout\n",
    "        weights = torch.softmax(scores, dim=-1)\n",
    "        weights = self.dropout(weights)\n",
    "\n",
    "        # Compute output\n",
    "        output = weights @ V  # (batch_size, num_heads, seq_len, head_dim)\n",
    "        # Concatenate heads and project to output dimension\n",
    "        # (batch_size, num_heads, seq_len, head_dim) -> (batch_size, seq_len, num_heads, head_dim)\n",
    "        # ->   (batch_size, seq_len, d_out)\n",
    "        output = output.transpose(1, 2).contiguous().view(batch_size, seq_len, -1)\n",
    "\n",
    "        # Should be helpful, but not strictly necessary.\n",
    "        output = self.out_proj(output)\n",
    "        return output\n"
   ],
   "id": "932f009cac678700",
   "outputs": [],
   "execution_count": 214
  },
  {
   "metadata": {
    "ExecuteTime": {
     "end_time": "2025-06-05T01:20:04.555461Z",
     "start_time": "2025-06-05T01:20:04.545752Z"
    }
   },
   "cell_type": "code",
   "source": [
    "class FeedForward(nn.Module):\n",
    "    def __init__(self, cfg):\n",
    "        super().__init__()\n",
    "        self.layers = nn.Sequential(nn.Linear(cfg[\"emb_dim\"], 4*cfg[\"emb_dim\"]), nn.GELU(), nn.Linear(4*cfg[\"emb_dim\"], cfg[\"emb_dim\"]))\n",
    "\n",
    "    def forward(self, x):\n",
    "        return self.layers(x)"
   ],
   "id": "f94f9df964ea83af",
   "outputs": [],
   "execution_count": 215
  },
  {
   "metadata": {
    "ExecuteTime": {
     "end_time": "2025-06-05T01:27:03.954336Z",
     "start_time": "2025-06-05T01:27:03.941883Z"
    }
   },
   "cell_type": "code",
   "source": [
    "class TransformerBlock(nn.Module):\n",
    "    def __init__(self, cfg):\n",
    "        super().__init__()\n",
    "        self.attn = MultiHeadAttention(cfg[\"emb_dim\"], cfg[\"emb_dim\"], cfg[\"context_length\"], cfg[\"drop_rate\"], cfg[\"n_heads\"], cfg[\"qkv_bias\"])\n",
    "        self.ff = FeedForward(cfg)\n",
    "        self.ln1 = nn.LayerNorm(cfg[\"emb_dim\"])\n",
    "        self.ln2 = nn.LayerNorm(cfg[\"emb_dim\"])\n",
    "        self.dropout = nn.Dropout(cfg[\"drop_rate\"])\n",
    "    def forward(self, x):\n",
    "        x = x + self.dropout(self.attn(self.ln1(x)))\n",
    "        x = x + self.dropout(self.ff(self.ln2(x)))\n",
    "        return x"
   ],
   "id": "d7dff8f59a5df0",
   "outputs": [],
   "execution_count": 216
  },
  {
   "metadata": {
    "ExecuteTime": {
     "end_time": "2025-06-05T01:27:28.313436Z",
     "start_time": "2025-06-05T01:27:28.209278Z"
    }
   },
   "cell_type": "code",
   "source": [
    "torch.manual_seed(123)\n",
    "\n",
    "x = torch.rand(2, 4, 768)  # Shape: [batch_size, num_tokens, emb_dim]\n",
    "block = TransformerBlock(GPT_CONFIG_124M)\n",
    "output = block(x)\n",
    "\n",
    "print(\"Input shape:\", x.shape)\n",
    "print(\"Output shape:\", output.shape)"
   ],
   "id": "3bbf0a60f514fa4f",
   "outputs": [
    {
     "name": "stdout",
     "output_type": "stream",
     "text": [
      "Input shape: torch.Size([2, 4, 768])\n",
      "Output shape: torch.Size([2, 4, 768])\n"
     ]
    }
   ],
   "execution_count": 217
  },
  {
   "metadata": {},
   "cell_type": "markdown",
   "source": "### GPT2 model",
   "id": "7daac382486989fa"
  },
  {
   "metadata": {
    "ExecuteTime": {
     "end_time": "2025-06-05T01:39:30.873700Z",
     "start_time": "2025-06-05T01:39:30.862882Z"
    }
   },
   "cell_type": "code",
   "source": [
    "import torch\n",
    "import torch.nn as nn\n",
    "\n",
    "class GPT2Model(nn.Module):\n",
    "    def __init__(self, cfg):\n",
    "        super().__init__()\n",
    "        self.token_emb = nn.Embedding(cfg[\"vocab_size\"], cfg[\"emb_dim\"])\n",
    "        self.pos_emb = nn.Embedding(cfg[\"context_length\"], cfg[\"emb_dim\"])\n",
    "        self.drop = nn.Dropout(cfg[\"drop_rate\"])\n",
    "\n",
    "        self.blocks = nn.Sequential(*[TransformerBlock(cfg) for _ in range(cfg[\"n_layers\"])])\n",
    "\n",
    "        self.final_norm = nn.LayerNorm(cfg[\"emb_dim\"])\n",
    "        self.out_head = nn.Linear(cfg[\"emb_dim\"], cfg[\"vocab_size\"], bias=False)\n",
    "\n",
    "    def forward(self, token_ids):\n",
    "        batch_size, seq_len = token_ids.shape\n",
    "        token_emb = self.token_emb(token_ids)\n",
    "        pos_emb = self.pos_emb(torch.arange(seq_len, device=token_ids.device))\n",
    "        x = token_emb + pos_emb\n",
    "        x = self.drop(x)\n",
    "        x = self.blocks(x)\n",
    "        x = self.final_norm(x)\n",
    "        logits = self.out_head(x)\n",
    "        return logits"
   ],
   "id": "adaf907104bada57",
   "outputs": [],
   "execution_count": 218
  },
  {
   "metadata": {
    "ExecuteTime": {
     "end_time": "2025-06-05T01:54:17.857475Z",
     "start_time": "2025-06-05T01:54:16.905957Z"
    }
   },
   "cell_type": "code",
   "source": [
    "torch.manual_seed(123)\n",
    "model = GPT2Model(GPT_CONFIG_124M)\n",
    "\n",
    "out = model(batch)\n",
    "print(\"Input batch:\\n\", batch)\n",
    "print(\"\\nOutput shape:\", out.shape)\n",
    "print(out)"
   ],
   "id": "b036b1a653b56393",
   "outputs": [
    {
     "name": "stdout",
     "output_type": "stream",
     "text": [
      "Input batch:\n",
      " tensor([[ 7454,  2402,   257,   640,   612],\n",
      "        [22474,  1440,  1310, 22502,   896]])\n",
      "\n",
      "Output shape: torch.Size([2, 5, 50257])\n",
      "tensor([[[-0.5535,  0.4529, -0.4696,  ...,  0.3825, -0.1297, -1.1384],\n",
      "         [ 0.3119, -1.2161, -0.4617,  ..., -0.3585,  0.1704,  0.0206],\n",
      "         [ 1.5298, -0.1071,  0.5855,  ...,  0.1792, -0.0992,  0.1266],\n",
      "         [-0.0482, -0.4500, -0.0636,  ...,  0.2731, -0.0906, -0.2470],\n",
      "         [ 0.6004, -0.4716, -0.0837,  ...,  0.6402, -0.4540, -0.4408]],\n",
      "\n",
      "        [[ 0.1923, -0.3315, -0.6307,  ..., -0.1130,  0.9947, -0.0477],\n",
      "         [ 0.3393, -0.1646, -0.4265,  ..., -0.4938,  0.2773,  0.4487],\n",
      "         [ 1.0538,  0.2296,  0.0455,  ...,  0.1404, -0.5532,  0.4073],\n",
      "         [-0.6360, -1.0180, -0.2731,  ...,  0.9856, -0.8834, -0.5566],\n",
      "         [ 0.7773, -0.1382, -0.1142,  ..., -0.2936, -0.7128, -0.4067]]],\n",
      "       grad_fn=<UnsafeViewBackward0>)\n"
     ]
    }
   ],
   "execution_count": 227
  },
  {
   "metadata": {
    "ExecuteTime": {
     "end_time": "2025-06-05T02:01:43.988646Z",
     "start_time": "2025-06-05T02:01:43.957491Z"
    }
   },
   "cell_type": "code",
   "source": [
    "from torchinfo import summary\n",
    "\n",
    "summary(model)"
   ],
   "id": "f985208fabf87592",
   "outputs": [
    {
     "data": {
      "text/plain": [
       "=================================================================\n",
       "Layer (type:depth-idx)                   Param #\n",
       "=================================================================\n",
       "GPT2Model                                --\n",
       "├─Embedding: 1-1                         38,597,376\n",
       "├─Embedding: 1-2                         786,432\n",
       "├─Dropout: 1-3                           --\n",
       "├─Sequential: 1-4                        --\n",
       "│    └─TransformerBlock: 2-1             --\n",
       "│    │    └─MultiHeadAttention: 3-1      2,360,064\n",
       "│    │    └─FeedForward: 3-2             4,722,432\n",
       "│    │    └─LayerNorm: 3-3               1,536\n",
       "│    │    └─LayerNorm: 3-4               1,536\n",
       "│    │    └─Dropout: 3-5                 --\n",
       "│    └─TransformerBlock: 2-2             --\n",
       "│    │    └─MultiHeadAttention: 3-6      2,360,064\n",
       "│    │    └─FeedForward: 3-7             4,722,432\n",
       "│    │    └─LayerNorm: 3-8               1,536\n",
       "│    │    └─LayerNorm: 3-9               1,536\n",
       "│    │    └─Dropout: 3-10                --\n",
       "│    └─TransformerBlock: 2-3             --\n",
       "│    │    └─MultiHeadAttention: 3-11     2,360,064\n",
       "│    │    └─FeedForward: 3-12            4,722,432\n",
       "│    │    └─LayerNorm: 3-13              1,536\n",
       "│    │    └─LayerNorm: 3-14              1,536\n",
       "│    │    └─Dropout: 3-15                --\n",
       "│    └─TransformerBlock: 2-4             --\n",
       "│    │    └─MultiHeadAttention: 3-16     2,360,064\n",
       "│    │    └─FeedForward: 3-17            4,722,432\n",
       "│    │    └─LayerNorm: 3-18              1,536\n",
       "│    │    └─LayerNorm: 3-19              1,536\n",
       "│    │    └─Dropout: 3-20                --\n",
       "│    └─TransformerBlock: 2-5             --\n",
       "│    │    └─MultiHeadAttention: 3-21     2,360,064\n",
       "│    │    └─FeedForward: 3-22            4,722,432\n",
       "│    │    └─LayerNorm: 3-23              1,536\n",
       "│    │    └─LayerNorm: 3-24              1,536\n",
       "│    │    └─Dropout: 3-25                --\n",
       "│    └─TransformerBlock: 2-6             --\n",
       "│    │    └─MultiHeadAttention: 3-26     2,360,064\n",
       "│    │    └─FeedForward: 3-27            4,722,432\n",
       "│    │    └─LayerNorm: 3-28              1,536\n",
       "│    │    └─LayerNorm: 3-29              1,536\n",
       "│    │    └─Dropout: 3-30                --\n",
       "│    └─TransformerBlock: 2-7             --\n",
       "│    │    └─MultiHeadAttention: 3-31     2,360,064\n",
       "│    │    └─FeedForward: 3-32            4,722,432\n",
       "│    │    └─LayerNorm: 3-33              1,536\n",
       "│    │    └─LayerNorm: 3-34              1,536\n",
       "│    │    └─Dropout: 3-35                --\n",
       "│    └─TransformerBlock: 2-8             --\n",
       "│    │    └─MultiHeadAttention: 3-36     2,360,064\n",
       "│    │    └─FeedForward: 3-37            4,722,432\n",
       "│    │    └─LayerNorm: 3-38              1,536\n",
       "│    │    └─LayerNorm: 3-39              1,536\n",
       "│    │    └─Dropout: 3-40                --\n",
       "│    └─TransformerBlock: 2-9             --\n",
       "│    │    └─MultiHeadAttention: 3-41     2,360,064\n",
       "│    │    └─FeedForward: 3-42            4,722,432\n",
       "│    │    └─LayerNorm: 3-43              1,536\n",
       "│    │    └─LayerNorm: 3-44              1,536\n",
       "│    │    └─Dropout: 3-45                --\n",
       "│    └─TransformerBlock: 2-10            --\n",
       "│    │    └─MultiHeadAttention: 3-46     2,360,064\n",
       "│    │    └─FeedForward: 3-47            4,722,432\n",
       "│    │    └─LayerNorm: 3-48              1,536\n",
       "│    │    └─LayerNorm: 3-49              1,536\n",
       "│    │    └─Dropout: 3-50                --\n",
       "│    └─TransformerBlock: 2-11            --\n",
       "│    │    └─MultiHeadAttention: 3-51     2,360,064\n",
       "│    │    └─FeedForward: 3-52            4,722,432\n",
       "│    │    └─LayerNorm: 3-53              1,536\n",
       "│    │    └─LayerNorm: 3-54              1,536\n",
       "│    │    └─Dropout: 3-55                --\n",
       "│    └─TransformerBlock: 2-12            --\n",
       "│    │    └─MultiHeadAttention: 3-56     2,360,064\n",
       "│    │    └─FeedForward: 3-57            4,722,432\n",
       "│    │    └─LayerNorm: 3-58              1,536\n",
       "│    │    └─LayerNorm: 3-59              1,536\n",
       "│    │    └─Dropout: 3-60                --\n",
       "├─LayerNorm: 1-5                         1,536\n",
       "├─Linear: 1-6                            38,597,376\n",
       "=================================================================\n",
       "Total params: 163,009,536\n",
       "Trainable params: 163,009,536\n",
       "Non-trainable params: 0\n",
       "================================================================="
      ]
     },
     "execution_count": 240,
     "metadata": {},
     "output_type": "execute_result"
    }
   ],
   "execution_count": 240
  },
  {
   "metadata": {
    "ExecuteTime": {
     "end_time": "2025-06-05T02:03:59.003825Z",
     "start_time": "2025-06-05T02:03:58.971161Z"
    }
   },
   "cell_type": "code",
   "source": [
    "total_params = sum(p.numel() for p in model.parameters())\n",
    "print(f\"Total number of parameters: {total_params:,}\")\n",
    "\n",
    "print(\"Token embedding layer shape:\", model.token_emb.weight.shape)\n",
    "print(\"Output layer shape:\", model.out_head.weight.shape)\n",
    "\n",
    "total_params_gpt2 =  total_params - sum(p.numel() for p in model.out_head.parameters())\n",
    "print(f\"Number of trainable parameters considering weight tying: {total_params_gpt2:,}\")\n",
    "\n",
    "total_size_mb = total_params * 4 / (1024 ** 2)\n",
    "print(f\"Total size of the model: {total_size_mb:.2f} MB\")\n"
   ],
   "id": "7d8638f8b50fe161",
   "outputs": [
    {
     "name": "stdout",
     "output_type": "stream",
     "text": [
      "Total number of parameters: 163,009,536\n",
      "Token embedding layer shape: torch.Size([50257, 768])\n",
      "Output layer shape: torch.Size([50257, 768])\n",
      "Number of trainable parameters considering weight tying: 124,412,160\n",
      "Total size of the model: 621.83 MB\n"
     ]
    }
   ],
   "execution_count": 244
  },
  {
   "metadata": {},
   "cell_type": "markdown",
   "source": "### Generate Text",
   "id": "dbf07e448a0fad91"
  },
  {
   "metadata": {
    "ExecuteTime": {
     "end_time": "2025-06-05T02:23:46.585978Z",
     "start_time": "2025-06-05T02:21:37.522830Z"
    }
   },
   "cell_type": "code",
   "source": [
    "def generate_text_simple(model, idx, max_new_tokens, context_size):\n",
    "    for _ in range(max_new_tokens):\n",
    "        idx_cond = idx[:, -context_size:]\n",
    "\n",
    "        # Get logits from model\n",
    "        with torch.no_grad():\n",
    "            logits = model(idx_cond)\n",
    "\n",
    "        # Take logits for the last time step\n",
    "        # (batch, n_tokens, vocab_size) -> (batch, vocab_size)\n",
    "        logits = logits[:, -1, :]\n",
    "\n",
    "        # Apply softmax to get probabilities\n",
    "        probas = torch.softmax(logits, dim=-1)  # (batch, vocab_size)\n",
    "\n",
    "        # Get the idx of the vocab entry with the highest probability value\n",
    "        idx_next = torch.argmax(probas, dim=-1, keepdim=True)  # (batch, 1)\n",
    "\n",
    "        # Append sampled index to the running sequence\n",
    "        idx = torch.cat((idx, idx_next), dim=1)  # (batch, n_tokens+1)\n",
    "\n",
    "    return idx\n"
   ],
   "id": "61d2a177b0032637",
   "outputs": [],
   "execution_count": 256
  },
  {
   "metadata": {
    "ExecuteTime": {
     "end_time": "2025-06-06T00:32:46.700792Z",
     "start_time": "2025-06-06T00:32:46.628585Z"
    }
   },
   "cell_type": "code",
   "source": [
    "def text_to_tensor(text,tokenizer):\n",
    "    return torch.tensor(tokenizer.encode(text)).unsqueeze(0)\n",
    "\n",
    "def tensor_to_text(tensor,tokenizer):\n",
    "    return tokenizer.decode(tensor.squeeze(0).tolist())"
   ],
   "id": "a690e2aa7247b144",
   "outputs": [],
   "execution_count": 266
  },
  {
   "metadata": {
    "ExecuteTime": {
     "end_time": "2025-06-06T00:32:48.222875Z",
     "start_time": "2025-06-06T00:32:48.204372Z"
    }
   },
   "cell_type": "code",
   "source": [
    "start_context = \"Once upon a time there\"\n",
    "\n",
    "encoded_tensor = text_to_tensor(start_context,tokenizer)\n",
    "print(\"encoded_tensor.shape:\", encoded_tensor.shape)\n",
    "print(\"encoded_tensor:\", encoded)"
   ],
   "id": "d2def64f650a08ec",
   "outputs": [
    {
     "name": "stdout",
     "output_type": "stream",
     "text": [
      "encoded_tensor.shape: torch.Size([1, 5])\n",
      "encoded_tensor: [7454, 2402, 257, 640, 612]\n"
     ]
    }
   ],
   "execution_count": 267
  },
  {
   "metadata": {
    "ExecuteTime": {
     "end_time": "2025-06-06T00:34:14.388487Z",
     "start_time": "2025-06-06T00:34:13.954437Z"
    }
   },
   "cell_type": "code",
   "source": [
    "model.eval() # disable dropout\n",
    "\n",
    "out = generate_text_simple(\n",
    "    model=model,\n",
    "    idx=encoded_tensor,\n",
    "    max_new_tokens=6,\n",
    "    context_size=GPT_CONFIG_124M[\"context_length\"]\n",
    ")\n",
    "\n",
    "print(\"Output:\", out)\n",
    "decoded_text = tensor_to_text(out,tokenizer)\n",
    "print(decoded_text)"
   ],
   "id": "588da516829e07d4",
   "outputs": [
    {
     "name": "stdout",
     "output_type": "stream",
     "text": [
      "Output: tensor([[ 7454,  2402,   257,   640,   612, 41117,  4683, 36413, 33205, 35780,\n",
      "         22580]])\n",
      "Once upon a time there discriminated existing REALLY JehovahQUEST valve\n"
     ]
    }
   ],
   "execution_count": 269
  }
 ],
 "metadata": {
  "kernelspec": {
   "display_name": "Python 3",
   "language": "python",
   "name": "python3"
  },
  "language_info": {
   "codemirror_mode": {
    "name": "ipython",
    "version": 2
   },
   "file_extension": ".py",
   "mimetype": "text/x-python",
   "name": "python",
   "nbconvert_exporter": "python",
   "pygments_lexer": "ipython2",
   "version": "2.7.6"
  }
 },
 "nbformat": 4,
 "nbformat_minor": 5
}
