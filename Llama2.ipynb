{
 "cells": [
  {
   "metadata": {},
   "cell_type": "markdown",
   "source": "# RMS Norm",
   "id": "e5db7a3e29b0abfb"
  },
  {
   "metadata": {
    "ExecuteTime": {
     "end_time": "2025-07-13T00:15:29.169444Z",
     "start_time": "2025-07-13T00:15:29.160081Z"
    }
   },
   "cell_type": "code",
   "source": [
    "import torch\n",
    "from torch import nn\n",
    "\n",
    "class LayerNorm(nn.Module):\n",
    "    def __init__(self, emb_dim):\n",
    "        super().__init__()\n",
    "        self.eps = 1e-5\n",
    "        # Learnable scale (gamma) and shift (beta) parameters\n",
    "        self.scale = nn.Parameter(torch.ones(emb_dim))\n",
    "        self.shift = nn.Parameter(torch.zeros(emb_dim))\n",
    "\n",
    "    def forward(self, x):\n",
    "        # Compute mean and variance along the last dimension\n",
    "        mean = x.mean(dim=-1, keepdim=True)\n",
    "        var = x.var(dim=-1, keepdim=True, unbiased=False)\n",
    "        # Normalize input\n",
    "        norm_x = (x - mean) / torch.sqrt(var + self.eps)\n",
    "        # Apply scale and shift\n",
    "        return self.scale * norm_x + self.shift\n",
    "\n",
    "class RMSNorm(nn.Module):\n",
    "    def __init__(self, emb_dim, eps=1e-5):\n",
    "        super().__init__()\n",
    "        self.eps = eps\n",
    "        self.emb_dim = emb_dim\n",
    "        # Learnable scaling parameter (gamma)\n",
    "        self.weight = nn.Parameter(torch.ones(emb_dim)).float()\n",
    "\n",
    "    def forward(self, x):\n",
    "        # Compute root mean square (RMS)\n",
    "        means = x.pow(2).mean(dim=-1, keepdim=True)\n",
    "        # Normalize input by RMS\n",
    "        x_normed = x * torch.rsqrt(means + self.eps)\n",
    "        # Apply scaling and restore original dtype\n",
    "        return (x_normed * self.weight).to(dtype=x.dtype)\n"
   ],
   "id": "initial_id",
   "outputs": [],
   "execution_count": 12
  },
  {
   "metadata": {
    "ExecuteTime": {
     "end_time": "2025-07-13T00:25:18.592601Z",
     "start_time": "2025-07-13T00:25:18.584226Z"
    }
   },
   "cell_type": "code",
   "source": [
    "# Set random seed for reproducibility\n",
    "torch.manual_seed(123)\n",
    "\n",
    "# Create input tensor with uniform distribution shifted away from zero\n",
    "example = torch.rand(2, 3, 10) * 4 + 3  # values roughly in [3,7]\n",
    "\n",
    "print(\"Input tensor (example):\")\n",
    "print(\"Raw mean:\", example.mean().item())\n",
    "print(\"Raw std :\", example.std().item())\n",
    "print(\"Raw RMS :\", torch.sqrt(example.pow(2).mean(dim=-1).mean()).item())\n",
    "\n",
    "# Instantiate normalization layers\n",
    "layer_norm = LayerNorm(emb_dim=example.shape[-1])\n",
    "rms_norm = RMSNorm(emb_dim=example.shape[-1])\n",
    "rms_norm_pytorch = torch.nn.RMSNorm(example.shape[-1], eps=1e-5)  # PyTorch built-in\n",
    "\n",
    "# Apply normalization\n",
    "out_layer = layer_norm(example)\n",
    "out_rms = rms_norm(example)\n",
    "out_rms_pt = rms_norm_pytorch(example)\n",
    "\n",
    "# Print normalized outputs statistics\n",
    "print(\"After LayerNorm:\")\n",
    "print(\"Mean:\", out_layer.mean().item())\n",
    "print(\"Std :\", out_layer.std().item())\n",
    "print(\"RMS :\", torch.sqrt(out_layer.pow(2).mean(dim=-1).mean()).item())\n",
    "\n",
    "print(\"After RMSNorm (custom):\")\n",
    "print(\"Mean:\", out_rms.mean().item())\n",
    "print(\"Std :\", out_rms.std().item())\n",
    "print(\"RMS :\", torch.sqrt(out_rms.pow(2).mean(dim=-1).mean()).item())\n",
    "\n",
    "print(\"After RMSNorm (PyTorch built-in):\")\n",
    "print(\"Mean:\", out_rms_pt.mean().item())\n",
    "print(\"Std :\", out_rms_pt.std().item())\n",
    "print(\"RMS :\", torch.sqrt(out_rms_pt.pow(2).mean(dim=-1).mean()).item())\n"
   ],
   "id": "65f10f60aa427cc0",
   "outputs": [
    {
     "name": "stdout",
     "output_type": "stream",
     "text": [
      "Input tensor (example):\n",
      "Raw mean: 5.003686428070068\n",
      "Raw std : 1.1390745639801025\n",
      "Raw RMS : 5.129594802856445\n",
      "After LayerNorm:\n",
      "Mean: -1.033147185580674e-07\n",
      "Std : 1.0084344148635864\n",
      "RMS : 0.9999955296516418\n",
      "After RMSNorm (custom):\n",
      "Mean: 0.9775436520576477\n",
      "Std : 0.2125103920698166\n",
      "RMS : 0.9999997615814209\n",
      "After RMSNorm (PyTorch built-in):\n",
      "Mean: 0.9775436520576477\n",
      "Std : 0.2125103920698166\n",
      "RMS : 0.9999997615814209\n"
     ]
    }
   ],
   "execution_count": 23
  },
  {
   "metadata": {},
   "cell_type": "markdown",
   "source": "# SiLU activation",
   "id": "595373e62bbeee14"
  },
  {
   "metadata": {
    "ExecuteTime": {
     "end_time": "2025-07-13T01:20:25.035728Z",
     "start_time": "2025-07-13T01:20:25.029505Z"
    }
   },
   "cell_type": "code",
   "source": [
    "class SiLU(nn.Module):\n",
    "    def __init__(self):\n",
    "        super(SiLU, self).__init__()\n",
    "\n",
    "    def forward(self, x):\n",
    "        return x * torch.sigmoid(x)"
   ],
   "id": "c8c85bfa2b4286f5",
   "outputs": [],
   "execution_count": 28
  },
  {
   "metadata": {
    "ExecuteTime": {
     "end_time": "2025-07-13T01:21:15.791183Z",
     "start_time": "2025-07-13T01:21:15.633014Z"
    }
   },
   "cell_type": "code",
   "source": [
    "import torch\n",
    "import torch.nn as nn\n",
    "import matplotlib.pyplot as plt\n",
    "\n",
    "gelu = nn.GELU()\n",
    "silu = nn.SiLU()\n",
    "\n",
    "x = torch.linspace(-5, 5, 200)\n",
    "\n",
    "y_gelu = gelu(x)\n",
    "y_silu = silu(x)\n",
    "\n",
    "plt.figure(figsize=(12, 3))\n",
    "for i, (y, label) in enumerate(zip(\n",
    "    [y_gelu, y_silu], [\"GELU\", \"SiLU\"]), 1):\n",
    "    plt.subplot(1, 3, i)\n",
    "    plt.plot(x.numpy(), y.detach().numpy(), label=label)\n",
    "    plt.title(f\"{label} activation\")\n",
    "    plt.xlabel(\"x\")\n",
    "    plt.ylabel(f\"{label}(x)\")\n",
    "    plt.grid(True)\n",
    "\n",
    "plt.tight_layout()\n",
    "plt.show()\n"
   ],
   "id": "50c8d9d46a7568b9",
   "outputs": [
    {
     "data": {
      "text/plain": [
       "<Figure size 1200x300 with 2 Axes>"
      ],
      "image/png": "[encoded data removed]"
     },
     "metadata": {},
     "output_type": "display_data"
    }
   ],
   "execution_count": 29
  },
  {
   "metadata": {},
   "cell_type": "markdown",
   "source": "# SwiGLU in Feedforward",
   "id": "4bf531e1218ca626"
  },
  {
   "metadata": {
    "ExecuteTime": {
     "end_time": "2025-07-13T01:34:01.846035Z",
     "start_time": "2025-07-13T01:34:01.840275Z"
    }
   },
   "cell_type": "code",
   "source": [
    "class FeedForwardInGPT2(nn.Module):\n",
    "    def __init__(self, cfg):\n",
    "        super().__init__()\n",
    "        self.layers = nn.Sequential(\n",
    "            nn.Linear(cfg[\"emb_dim\"], 4 * cfg[\"emb_dim\"]),\n",
    "            nn.GELU(),\n",
    "            nn.Linear(4 * cfg[\"emb_dim\"], cfg[\"emb_dim\"]),\n",
    "        )\n",
    "\n",
    "    def forward(self, x):\n",
    "        return self.layers(x)\n",
    "\n",
    "class FeedForward(nn.Module):\n",
    "    def __init__(self, cfg):\n",
    "        super().__init__()\n",
    "        self.fc1 = nn.Linear(cfg[\"emb_dim\"], cfg[\"hidden_dim\"], dtype=cfg[\"dtype\"], bias=False)\n",
    "        self.fc2 = nn.Linear(cfg[\"emb_dim\"], cfg[\"hidden_dim\"], dtype=cfg[\"dtype\"], bias=False)\n",
    "        self.fc3 = nn.Linear(cfg[\"hidden_dim\"], cfg[\"emb_dim\"], dtype=cfg[\"dtype\"], bias=False)\n",
    "        self.silu = nn.SiLU()\n",
    "\n",
    "    def forward(self, x):\n",
    "        x_fc1 = self.fc1(x)\n",
    "        x_fc2 = self.fc2(x)\n",
    "        x = self.silu(x_fc1) * x_fc2\n",
    "        return self.fc3(x)"
   ],
   "id": "2e39794fe6bfb348",
   "outputs": [],
   "execution_count": 32
  },
  {
   "metadata": {},
   "cell_type": "markdown",
   "source": "# RoPE",
   "id": "4aff2d58cd7f9c94"
  },
  {
   "metadata": {
    "ExecuteTime": {
     "end_time": "2025-07-13T07:26:13.216129Z",
     "start_time": "2025-07-13T07:26:13.203674Z"
    }
   },
   "cell_type": "code",
   "source": [
    "import torch\n",
    "\n",
    "def precompute_rope_params(seq_len, head_dim):\n",
    "    \"\"\"\n",
    "    Precompute sin and cos tensors for RoPE.\n",
    "\n",
    "    Args:\n",
    "        seq_len: sequence length\n",
    "        head_dim: embedding dimension (must be even)\n",
    "\n",
    "    Returns:\n",
    "        sin, cos: tensors of shape (seq_len, dim//2)\n",
    "    \"\"\"\n",
    "    half_dim = head_dim // 2\n",
    "    inv_freq = 1.0 / (10000 ** (torch.arange(half_dim).float() / half_dim))\n",
    "    positions = torch.arange(seq_len, dtype=torch.float32)\n",
    "    angles = torch.einsum(\"i,j->ij\", positions, inv_freq)  # (seq_len, half_dim)\n",
    "    return torch.sin(angles), torch.cos(angles)\n",
    "\n",
    "\n",
    "def rotary_pos_emb(x, sin, cos):\n",
    "    \"\"\"\n",
    "    Apply Rotary Positional Embedding on input tensor x using precomputed sin and cos.\n",
    "\n",
    "    Args:\n",
    "        x: tensor of shape (batch, seq_len, dim)\n",
    "        sin: precomputed sin tensor of shape (seq_len, dim//2)\n",
    "        cos: precomputed cos tensor of shape (seq_len, dim//2)\n",
    "\n",
    "    Returns:\n",
    "        tensor same shape as x with RoPE applied.\n",
    "    \"\"\"\n",
    "    # x: (batch_size, num_heads, seq_len, head_dim)\n",
    "    batch, num_heads, seq_len, head_dim = x.shape\n",
    "\n",
    "    # x: (batch, seq_len, dim) -> (batch, seq_len, half_dim, 2)\n",
    "    x_ = x.view(batch, num_heads, seq_len, head_dim // 2, 2)\n",
    "\n",
    "    # ➤ Crop sin/cos to match actual seq_len\n",
    "    sin = sin[:seq_len, :]\n",
    "    cos = cos[:seq_len, :]\n",
    "\n",
    "    x_rotated = torch.zeros_like(x_)\n",
    "    x_rotated[..., 0] = x_[..., 0] * cos - x_[..., 1] * sin\n",
    "    x_rotated[..., 1] = x_[..., 0] * sin + x_[..., 1] * cos\n",
    "\n",
    "    return x_rotated.view_as(x)"
   ],
   "id": "d37c5c360a90a4de",
   "outputs": [],
   "execution_count": 160
  },
  {
   "metadata": {
    "ExecuteTime": {
     "end_time": "2025-07-13T05:47:24.799722Z",
     "start_time": "2025-07-13T05:47:24.793528Z"
    }
   },
   "cell_type": "code",
   "source": [
    "# Example usage\n",
    "batch_size, n_heads, seq_len, head_dim = 2, 4, 5, 16\n",
    "x = torch.randn(batch_size, n_heads, seq_len, head_dim)\n",
    "# Step 1: Precompute sin and cos for RoPE\n",
    "sin, cos = precompute_rope_params(seq_len, head_dim)\n",
    "# Step 2: Apply rotary positional embedding with precomputed sin and cos\n",
    "x_rope = rotary_pos_emb(x, sin, cos)\n",
    "\n",
    "print(x_rope.shape)  # Should be [2, 4, 5, 16]"
   ],
   "id": "1026dbe312477e5e",
   "outputs": [
    {
     "name": "stdout",
     "output_type": "stream",
     "text": [
      "Rotary Positional Embedding torch.Size([2, 4, 5, 16])\n",
      "shape of x_ torch.Size([2, 4, 5, 8, 2])\n",
      "shape of cos torch.Size([5, 8])\n",
      "torch.Size([2, 4, 5, 16])\n"
     ]
    }
   ],
   "execution_count": 136
  },
  {
   "metadata": {},
   "cell_type": "markdown",
   "source": "# update MHA with RoPE",
   "id": "9e5ab1702986a581"
  },
  {
   "metadata": {
    "ExecuteTime": {
     "end_time": "2025-07-13T07:26:16.577805Z",
     "start_time": "2025-07-13T07:26:16.568829Z"
    }
   },
   "cell_type": "code",
   "source": [
    "class MultiHeadAttention(nn.Module):\n",
    "    def __init__(self, d_in, d_out, context_length, num_heads, dtype=None):\n",
    "        super().__init__()\n",
    "        assert d_out % num_heads == 0, \"d_out must be divisible by n_heads\"\n",
    "\n",
    "        self.d_out = d_out\n",
    "        self.num_heads = num_heads\n",
    "        self.head_dim = d_out // num_heads\n",
    "\n",
    "        # Use nn.Linear with shared kwargs to reduce repetition\n",
    "        linear_kwargs = dict(bias=False, dtype=dtype)\n",
    "        self.W_query = nn.Linear(d_in, d_out, **linear_kwargs)\n",
    "        self.W_key = nn.Linear(d_in, d_out, **linear_kwargs)\n",
    "        self.W_value = nn.Linear(d_in, d_out, **linear_kwargs)\n",
    "        self.out_proj = nn.Linear(d_out, d_out, **linear_kwargs)\n",
    "\n",
    "        self.register_buffer(\"mask\", torch.triu(torch.ones(context_length, context_length), diagonal=1).bool())\n",
    "\n",
    "        cos, sin = precompute_rope_params(seq_len=context_length, head_dim=self.head_dim)\n",
    "        self.register_buffer(\"cos\", cos)\n",
    "        self.register_buffer(\"sin\", sin)\n",
    "\n",
    "    def forward(self, x):\n",
    "        b, num_tokens, d_in = x.shape\n",
    "\n",
    "        # Project inputs\n",
    "        keys = self.W_key(x).view(b, num_tokens, self.num_heads, self.head_dim).transpose(1, 2)\n",
    "        queries = self.W_query(x).view(b, num_tokens, self.num_heads, self.head_dim).transpose(1, 2)\n",
    "        values = self.W_value(x).view(b, num_tokens, self.num_heads, self.head_dim).transpose(1, 2)\n",
    "\n",
    "        # Apply RoPE\n",
    "        keys = rotary_pos_emb(keys, self.cos, self.sin)\n",
    "        queries = rotary_pos_emb(queries, self.cos, self.sin)\n",
    "\n",
    "        # Attention scores with causal mask\n",
    "        attn_scores = queries @ keys.transpose(-2, -1)\n",
    "        attn_scores.masked_fill_(self.mask[:num_tokens, :num_tokens], float('-inf'))\n",
    "\n",
    "        attn_weights = torch.softmax(attn_scores / self.head_dim ** 0.5, dim=-1)\n",
    "\n",
    "        context_vec = (attn_weights @ values).transpose(1, 2).reshape(b, num_tokens, self.d_out)\n",
    "        context_vec = self.out_proj(context_vec)\n",
    "\n",
    "        return context_vec\n"
   ],
   "id": "98e16b102ef5db0a",
   "outputs": [],
   "execution_count": 161
  },
  {
   "metadata": {
    "ExecuteTime": {
     "end_time": "2025-07-13T07:26:20.517153Z",
     "start_time": "2025-07-13T07:26:20.472935Z"
    }
   },
   "cell_type": "code",
   "source": [
    "batch_size = 2\n",
    "context_len = 128\n",
    "max_context_len = 1280\n",
    "embed_dim = 64\n",
    "num_heads = 4\n",
    "\n",
    "example_batch = torch.randn(batch_size, context_len, embed_dim)\n",
    "\n",
    "mha = MultiHeadAttention(\n",
    "    d_in=embed_dim,\n",
    "    d_out=embed_dim,\n",
    "    context_length=max_context_len,\n",
    "    num_heads=num_heads\n",
    ")\n",
    "\n",
    "output = mha(example_batch)\n",
    "print(output.shape)  # Expected: (batch_size, context_len, embed_dim)"
   ],
   "id": "35b2a2855680ebf5",
   "outputs": [
    {
     "name": "stdout",
     "output_type": "stream",
     "text": [
      "torch.Size([2, 128, 64])\n"
     ]
    }
   ],
   "execution_count": 162
  },
  {
   "metadata": {},
   "cell_type": "markdown",
   "source": "# Update TransformerBlock",
   "id": "ba1b52bf8a201fb"
  },
  {
   "metadata": {
    "ExecuteTime": {
     "end_time": "2025-07-13T07:26:23.485550Z",
     "start_time": "2025-07-13T07:26:23.479459Z"
    }
   },
   "cell_type": "code",
   "source": [
    "class TransformerBlock(nn.Module):\n",
    "    def __init__(self, cfg):\n",
    "        super().__init__()\n",
    "        self.att = MultiHeadAttention(\n",
    "            d_in=cfg[\"emb_dim\"],\n",
    "            d_out=cfg[\"emb_dim\"],\n",
    "            context_length=cfg[\"context_length\"],\n",
    "            num_heads=cfg[\"n_heads\"],\n",
    "            dtype=cfg[\"dtype\"]\n",
    "        )\n",
    "        self.ff = FeedForward(cfg)\n",
    "\n",
    "        self.norm1 = RMSNorm(cfg[\"emb_dim\"])\n",
    "        self.norm2 = RMSNorm(cfg[\"emb_dim\"])\n",
    "    def forward(self, x):\n",
    "        # Shortcut connection for attention block\n",
    "        shortcut = x\n",
    "        x = self.norm1(x)\n",
    "        x = self.att(x)   # Shape [batch_size, num_tokens, emb_size]\n",
    "        x = x + shortcut  # Add the original input back\n",
    "\n",
    "        # Shortcut connection for feed-forward block\n",
    "        shortcut = x\n",
    "        x = self.norm2(x)\n",
    "        x = self.ff(x)\n",
    "        x = x + shortcut  # Add the original input back\n",
    "\n",
    "        return x"
   ],
   "id": "bb8c579193e8f17c",
   "outputs": [],
   "execution_count": 163
  },
  {
   "metadata": {},
   "cell_type": "markdown",
   "source": "# Update the Model",
   "id": "24ed24d68e3a28f"
  },
  {
   "metadata": {
    "ExecuteTime": {
     "end_time": "2025-07-13T07:26:25.864307Z",
     "start_time": "2025-07-13T07:26:25.859450Z"
    }
   },
   "cell_type": "code",
   "source": [
    "class Llama2Model(nn.Module):\n",
    "    def __init__(self, cfg):\n",
    "        super().__init__()\n",
    "        self.tok_emb = nn.Embedding(cfg[\"vocab_size\"], cfg[\"emb_dim\"], dtype=cfg[\"dtype\"])\n",
    "        self.trf_blocks = nn.Sequential(\n",
    "            *[TransformerBlock(cfg) for _ in range(cfg[\"n_layers\"])])\n",
    "        self.final_norm = RMSNorm(cfg[\"emb_dim\"])\n",
    "        self.out_head = nn.Linear(cfg[\"emb_dim\"], cfg[\"vocab_size\"], bias=False, dtype=cfg[\"dtype\"])\n",
    "\n",
    "    def forward(self, in_idx):\n",
    "        x = self.tok_emb(in_idx)\n",
    "        x = self.trf_blocks(x)\n",
    "        x = self.final_norm(x)\n",
    "        logits = self.out_head(x)\n",
    "        return logits"
   ],
   "id": "6bc710191a4e3e43",
   "outputs": [],
   "execution_count": 164
  },
  {
   "metadata": {},
   "cell_type": "markdown",
   "source": "# Initialize Model",
   "id": "48bae0079b3d7967"
  },
  {
   "metadata": {
    "ExecuteTime": {
     "end_time": "2025-07-13T06:37:11.163363Z",
     "start_time": "2025-07-13T06:37:11.160512Z"
    }
   },
   "cell_type": "code",
   "source": [
    "LLAMA2_CONFIG_7B = {\n",
    "    \"vocab_size\": 32000,     # Vocabulary size\n",
    "    \"context_length\": 4096,  # Context length\n",
    "    \"emb_dim\": 4096,         # Embedding dimension\n",
    "    \"n_heads\": 32,           # Number of attention heads\n",
    "    \"n_layers\": 32,          # Number of layers\n",
    "    \"hidden_dim\": 11008,     # Size of the intermediate dimension in FeedForward\n",
    "    \"dtype\": torch.bfloat16\n",
    "}"
   ],
   "id": "989bdbbbc23546d",
   "outputs": [],
   "execution_count": 144
  },
  {
   "metadata": {
    "ExecuteTime": {
     "end_time": "2025-07-13T07:45:04.767380Z",
     "start_time": "2025-07-13T07:44:44.487179Z"
    }
   },
   "cell_type": "code",
   "source": "model = Llama2Model(LLAMA2_CONFIG_7B)\n",
   "id": "b8e414dbbbf04f5",
   "outputs": [],
   "execution_count": 174
  },
  {
   "metadata": {
    "ExecuteTime": {
     "end_time": "2025-07-13T06:37:36.862986Z",
     "start_time": "2025-07-13T06:37:36.859155Z"
    }
   },
   "cell_type": "code",
   "source": [
    "total_params = sum(p.numel() for p in model.parameters())\n",
    "print(f\"Total number of parameters: {total_params:,}\")"
   ],
   "id": "bdbd6a30a96b50fe",
   "outputs": [
    {
     "name": "stdout",
     "output_type": "stream",
     "text": [
      "Total number of parameters: 6,738,415,616\n"
     ]
    }
   ],
   "execution_count": 146
  },
  {
   "metadata": {},
   "cell_type": "markdown",
   "source": "# Load Tokenizer",
   "id": "76dc975c22ebf31b"
  },
  {
   "metadata": {
    "ExecuteTime": {
     "end_time": "2025-07-13T07:01:26.342165Z",
     "start_time": "2025-07-13T07:01:25.795282Z"
    }
   },
   "cell_type": "code",
   "source": [
    "from huggingface_hub import login\n",
    "\n",
    "# login(token=\"your hf token\")\n"
   ],
   "id": "6de8252848ed65d9",
   "outputs": [],
   "execution_count": 148
  },
  {
   "metadata": {
    "ExecuteTime": {
     "end_time": "2025-07-13T07:22:56.660587Z",
     "start_time": "2025-07-13T07:22:56.392160Z"
    }
   },
   "cell_type": "code",
   "source": [
    "from huggingface_hub import hf_hub_download\n",
    "\n",
    "tokenizer_file = hf_hub_download(\n",
    "    repo_id=\"meta-llama/Llama-2-7b\",\n",
    "    filename=\"tokenizer.model\",\n",
    "    local_dir=\"Llama-2-7b\"\n",
    ")"
   ],
   "id": "ce4e357b662a7932",
   "outputs": [],
   "execution_count": 157
  },
  {
   "metadata": {
    "ExecuteTime": {
     "end_time": "2025-07-13T07:27:47.058139Z",
     "start_time": "2025-07-13T07:27:46.978423Z"
    }
   },
   "cell_type": "code",
   "source": [
    "import sentencepiece as spm\n",
    "\n",
    "class LlamaTokenizer:\n",
    "    def __init__(self, tokenizer_file):\n",
    "        sp = spm.SentencePieceProcessor()\n",
    "        sp.load(tokenizer_file)\n",
    "        self.tokenizer = sp\n",
    "\n",
    "    def encode(self, text):\n",
    "        return self.tokenizer.encode_as_ids(text)\n",
    "\n",
    "    def decode(self, ids):\n",
    "        return self.tokenizer.decode_pieces(ids)\n",
    "\n",
    "\n",
    "tokenizer = LlamaTokenizer(tokenizer_file)"
   ],
   "id": "137295148948ea24",
   "outputs": [],
   "execution_count": 166
  },
  {
   "metadata": {
    "ExecuteTime": {
     "end_time": "2025-07-13T07:46:16.162690Z",
     "start_time": "2025-07-13T07:45:28.160581Z"
    }
   },
   "cell_type": "code",
   "source": [
    "from gpt2_v2 import generate_text_simple, text_to_tensor, tensor_to_text\n",
    "\n",
    "torch.manual_seed(123)\n",
    "\n",
    "token_ids = generate_text_simple(\n",
    "    model=model,\n",
    "    idx=text_to_tensor(\"At the start of\", tokenizer).to(\"cpu\"),\n",
    "    max_new_tokens=30,\n",
    "    context_size=LLAMA2_CONFIG_7B[\"context_length\"],\n",
    "    top_k=1,\n",
    "    temperature=0.\n",
    ")\n",
    "\n",
    "print(\"Output text:\\n\", tensor_to_text(token_ids, tokenizer))"
   ],
   "id": "23e17c380c73838d",
   "outputs": [
    {
     "name": "stdout",
     "output_type": "stream",
     "text": [
      "Output text:\n",
      " At the start ofзей Warjarewnę обще Opera з went eeuwể Other collaborationlauf’Powerремħ’Powerремħ’ep kur extremely____dataset Multi vida curv\n"
     ]
    }
   ],
   "execution_count": 175
  },
  {
   "metadata": {},
   "cell_type": "markdown",
   "source": "# Load pretrained Weights",
   "id": "44ab9e746cf300f8"
  },
  {
   "metadata": {
    "ExecuteTime": {
     "end_time": "2025-07-13T07:22:53.855701Z",
     "start_time": "2025-07-13T07:20:02.851463Z"
    }
   },
   "cell_type": "code",
   "source": [
    "weights_file = hf_hub_download(\n",
    "   repo_id=\"meta-llama/Llama-2-7b\",\n",
    "   filename=\"consolidated.00.pth\",\n",
    "   local_dir=\"Llama-2-7b\"\n",
    ")"
   ],
   "id": "b2c62ac3cb3c289c",
   "outputs": [],
   "execution_count": 155
  },
  {
   "metadata": {
    "ExecuteTime": {
     "end_time": "2025-07-13T07:30:29.097119Z",
     "start_time": "2025-07-13T07:28:56.186953Z"
    }
   },
   "cell_type": "code",
   "source": "weights = torch.load(weights_file, weights_only=True)",
   "id": "490e0da768d2ef9c",
   "outputs": [],
   "execution_count": 168
  },
  {
   "metadata": {
    "ExecuteTime": {
     "end_time": "2025-07-13T07:33:36.001241Z",
     "start_time": "2025-07-13T07:33:35.936401Z"
    }
   },
   "cell_type": "code",
   "source": [
    "def assign(left, right):\n",
    "    if left.shape != right.shape:\n",
    "        raise ValueError(f\"Shape mismatch. Left: {left.shape}, Right: {right.shape}\")\n",
    "    return torch.nn.Parameter(right.clone().detach()) if isinstance(right, torch.Tensor) else torch.nn.Parameter(torch.tensor(right))\n",
    "\n",
    "\n",
    "def load_weights_into_llama(model, param_config, params):\n",
    "    model.tok_emb.weight = assign(model.tok_emb.weight, params[\"tok_embeddings.weight\"])\n",
    "\n",
    "    for l in range(param_config[\"n_layers\"]):\n",
    "        block = model.trf_blocks[l]\n",
    "\n",
    "        # map of attribute path (relative to block) -> param name\n",
    "        attr_param_map = {\n",
    "            f\"att.W_query.weight\": f\"layers.{l}.attention.wq.weight\",\n",
    "            f\"att.W_key.weight\": f\"layers.{l}.attention.wk.weight\",\n",
    "            f\"att.W_value.weight\": f\"layers.{l}.attention.wv.weight\",\n",
    "            f\"att.out_proj.weight\": f\"layers.{l}.attention.wo.weight\",\n",
    "            f\"norm1.weight\": f\"layers.{l}.attention_norm.weight\",\n",
    "            f\"ff.fc1.weight\": f\"layers.{l}.feed_forward.w1.weight\",\n",
    "            f\"ff.fc2.weight\": f\"layers.{l}.feed_forward.w3.weight\",  # swapped order\n",
    "            f\"ff.fc3.weight\": f\"layers.{l}.feed_forward.w2.weight\",\n",
    "            f\"norm2.weight\": f\"layers.{l}.ffn_norm.weight\",\n",
    "        }\n",
    "\n",
    "        for attr_path, param_name in attr_param_map.items():\n",
    "            obj = block\n",
    "            *parents, attr = attr_path.split('.')\n",
    "            for p in parents:\n",
    "                obj = getattr(obj, p)\n",
    "            old_tensor = getattr(obj, attr)\n",
    "            setattr(obj, attr, assign(old_tensor, params[param_name]))\n",
    "\n",
    "    model.final_norm.weight = assign(model.final_norm.weight, params[\"norm.weight\"])\n",
    "    model.out_head.weight = assign(model.out_head.weight, params[\"output.weight\"])\n"
   ],
   "id": "1a0450ed396b00de",
   "outputs": [],
   "execution_count": 169
  },
  {
   "metadata": {
    "ExecuteTime": {
     "end_time": "2025-07-13T07:35:12.964876Z",
     "start_time": "2025-07-13T07:33:43.094582Z"
    }
   },
   "cell_type": "code",
   "source": [
    "device = torch.device(\"cpu\")\n",
    "load_weights_into_llama(model, LLAMA2_CONFIG_7B, weights)\n",
    "model.to(device);"
   ],
   "id": "a68bedc5f55c3fb6",
   "outputs": [],
   "execution_count": 170
  },
  {
   "metadata": {
    "ExecuteTime": {
     "end_time": "2025-07-13T07:42:07.991450Z",
     "start_time": "2025-07-13T07:41:10.278354Z"
    }
   },
   "cell_type": "code",
   "source": [
    "from gpt2_v2 import generate_text_simple, text_to_tensor, tensor_to_text\n",
    "\n",
    "torch.manual_seed(123)\n",
    "\n",
    "token_ids = generate_text_simple(\n",
    "    model=model,\n",
    "    idx=text_to_tensor(\"At the start of\", tokenizer).to(\"cpu\"),\n",
    "    max_new_tokens=30,\n",
    "    context_size=LLAMA2_CONFIG_7B[\"context_length\"],\n",
    "    top_k=1,\n",
    "    temperature=0.\n",
    ")\n",
    "\n",
    "print(\"Output text:\\n\", tensor_to_text(token_ids, tokenizer))"
   ],
   "id": "94fe4fe46b91b15a",
   "outputs": [
    {
     "name": "stdout",
     "output_type": "stream",
     "text": [
      "Output text:\n",
      " At the start of the 20th century, the city was a major industrial center, with a large number of factories and mills. The city was also\n"
     ]
    }
   ],
   "execution_count": 172
  },
  {
   "metadata": {
    "ExecuteTime": {
     "end_time": "2025-07-13T07:46:54.485444Z",
     "start_time": "2025-07-13T07:46:53.032536Z"
    }
   },
   "cell_type": "code",
   "source": "del model",
   "id": "41687e96d5b5755a",
   "outputs": [],
   "execution_count": 176
  },
  {
   "metadata": {},
   "cell_type": "markdown",
   "source": "# try instruction-finetuned model",
   "id": "1a0a15829087e797"
  },
  {
   "metadata": {
    "ExecuteTime": {
     "end_time": "2025-07-13T07:54:35.978209Z",
     "start_time": "2025-07-13T07:46:58.439112Z"
    }
   },
   "cell_type": "code",
   "source": [
    "weights_file = hf_hub_download(\n",
    "   repo_id=\"meta-llama/Llama-2-7b-chat\",\n",
    "   filename=\"consolidated.00.pth\",\n",
    "   local_dir=\"Llama-2-7b-chat\"\n",
    ")"
   ],
   "id": "90cf4ec7e8d07b8b",
   "outputs": [
    {
     "data": {
      "text/plain": [
       "<torch._C.Generator at 0x104f9dc70>"
      ]
     },
     "execution_count": 177,
     "metadata": {},
     "output_type": "execute_result"
    }
   ],
   "execution_count": 177
  },
  {
   "metadata": {},
   "cell_type": "code",
   "outputs": [],
   "execution_count": null,
   "source": [
    "model = Llama2Model(LLAMA2_CONFIG_7B)\n",
    "load_weights_into_llama(model, LLAMA2_CONFIG_7B, weights)\n",
    "model.to(device)"
   ],
   "id": "3b46138f22cd0278"
  },
  {
   "metadata": {
    "ExecuteTime": {
     "end_time": "2025-07-13T08:01:14.179056Z",
     "start_time": "2025-07-13T08:00:16.274978Z"
    }
   },
   "cell_type": "code",
   "source": [
    "from gpt2_v2 import generate_text_simple, text_to_tensor, tensor_to_text\n",
    "\n",
    "torch.manual_seed(123)\n",
    "\n",
    "token_ids = generate_text_simple(\n",
    "    model=model,\n",
    "    idx=text_to_tensor(\"What do llamas eat?\", tokenizer).to(device),\n",
    "    max_new_tokens=30,\n",
    "    context_size=LLAMA2_CONFIG_7B[\"context_length\"],\n",
    "    top_k=1,\n",
    "    temperature=0.\n",
    ")\n",
    "\n",
    "print(\"Output text:\\n\", tensor_to_text(token_ids, tokenizer))"
   ],
   "id": "3f98aae547ca8a57",
   "outputs": [
    {
     "name": "stdout",
     "output_type": "stream",
     "text": [
      "Output text:\n",
      " What do llamas eat?\n",
      "Llamas are herbivores, which means they eat plants. They eat grass, hay, and other plants.\n",
      "What do llam\n"
     ]
    }
   ],
   "execution_count": 180
  }
 ],
 "metadata": {
  "kernelspec": {
   "display_name": "Python 3",
   "language": "python",
   "name": "python3"
  },
  "language_info": {
   "codemirror_mode": {
    "name": "ipython",
    "version": 2
   },
   "file_extension": ".py",
   "mimetype": "text/x-python",
   "name": "python",
   "nbconvert_exporter": "python",
   "pygments_lexer": "ipython2",
   "version": "2.7.6"
  }
 },
 "nbformat": 4,
 "nbformat_minor": 5
}
