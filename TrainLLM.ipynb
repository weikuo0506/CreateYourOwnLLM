{
 "cells": [
  {
   "metadata": {},
   "cell_type": "markdown",
   "source": "# Pretrain on unlabeled data",
   "id": "96029241f3323c0"
  },
  {
   "metadata": {
    "ExecuteTime": {
     "end_time": "2025-06-08T09:24:29.631764Z",
     "start_time": "2025-06-08T09:24:27.159725Z"
    }
   },
   "cell_type": "code",
   "source": [
    "import torch\n",
    "\n",
    "from gpt2 import load_model, complete_text, text_to_tensor\n",
    "\n",
    "start_context = \"Hello, my name is\"\n",
    "model = load_model()\n",
    "print(complete_text(start_context, model,10))"
   ],
   "id": "initial_id",
   "outputs": [
    {
     "name": "stdout",
     "output_type": "stream",
     "text": [
      "Hello, my name is hauled manyrikesdeconder ZionJS partingachusetts Civic\n"
     ]
    }
   ],
   "execution_count": 1
  },
  {
   "metadata": {},
   "cell_type": "markdown",
   "source": "### Generate Text without training",
   "id": "59d0d184b619cfd3"
  },
  {
   "metadata": {
    "ExecuteTime": {
     "end_time": "2025-06-08T09:24:29.845756Z",
     "start_time": "2025-06-08T09:24:29.770805Z"
    }
   },
   "cell_type": "code",
   "source": [
    "from gpt2 import dataloader_v1\n",
    "\n",
    "with open(\"world_war_ii.txt\", \"r\", encoding=\"utf-8\") as f:\n",
    "    raw_text = f.read()\n",
    "dataloader = dataloader_v1(raw_text,batch_size=2, context_size=4,stride=1)\n",
    "data_iter = iter(dataloader)\n",
    "inputs, targets = next(data_iter)\n",
    "print(\"shape of input: \",inputs.shape)\n",
    "print(\"first batch, input: \\n\", inputs,\"\\n targets: \\n\", targets)"
   ],
   "id": "4421717b10a6f375",
   "outputs": [
    {
     "name": "stdout",
     "output_type": "stream",
     "text": [
      "shape of input:  torch.Size([2, 4])\n",
      "first batch, input: \n",
      " tensor([[10603,  1810,   314,   393],\n",
      "        [ 1810,   314,   393,   262]]) \n",
      " targets: \n",
      " tensor([[1810,  314,  393,  262],\n",
      "        [ 314,  393,  262, 3274]])\n"
     ]
    }
   ],
   "execution_count": 2
  },
  {
   "metadata": {
    "ExecuteTime": {
     "end_time": "2025-06-08T09:24:29.857256Z",
     "start_time": "2025-06-08T09:24:29.853986Z"
    }
   },
   "cell_type": "code",
   "source": [
    "from gpt2 import tensor_to_text,build_tokenizer\n",
    "tokenizer = build_tokenizer()\n",
    "for i in range(inputs.size(0)):\n",
    "    text = tensor_to_text(inputs[i].unsqueeze(0), tokenizer)\n",
    "    print(f\"Input {i}: {text}\")\n",
    "\n",
    "for i in range(targets.size(0)):\n",
    "    text = tensor_to_text(targets[i].unsqueeze(0), tokenizer)\n",
    "    print(f\"target {i}: {text}\")"
   ],
   "id": "ecd964b80608361d",
   "outputs": [
    {
     "name": "stdout",
     "output_type": "stream",
     "text": [
      "Input 0: World War I or\n",
      "Input 1:  War I or the\n",
      "target 0:  War I or the\n",
      "target 1:  I or the First\n"
     ]
    }
   ],
   "execution_count": 3
  },
  {
   "metadata": {
    "ExecuteTime": {
     "end_time": "2025-06-08T09:24:29.926883Z",
     "start_time": "2025-06-08T09:24:29.872705Z"
    }
   },
   "cell_type": "code",
   "source": [
    "with torch.no_grad():\n",
    "    logits = model(inputs)\n",
    "probas = torch.softmax(logits, dim=-1)\n",
    "print(\"shape of logits: \",logits.shape)\n",
    "print(\"shape of probas: \",probas.shape)"
   ],
   "id": "2a0917e20a6cdcf0",
   "outputs": [
    {
     "name": "stdout",
     "output_type": "stream",
     "text": [
      "shape of logits:  torch.Size([2, 4, 50257])\n",
      "shape of probas:  torch.Size([2, 4, 50257])\n"
     ]
    }
   ],
   "execution_count": 4
  },
  {
   "metadata": {
    "ExecuteTime": {
     "end_time": "2025-06-08T09:24:29.939490Z",
     "start_time": "2025-06-08T09:24:29.936272Z"
    }
   },
   "cell_type": "code",
   "source": [
    "output_token_ids = torch.argmax(probas, dim=-1) # Replace probas with logits yield same result\n",
    "print(\"shape of output_token_ids: \",output_token_ids.shape)\n",
    "print(\"output_token_ids: \\n\",output_token_ids)\n",
    "\n",
    "for i in range(output_token_ids.size(0)):\n",
    "    text = tensor_to_text(output_token_ids[i].unsqueeze(0), tokenizer)\n",
    "    print(f\"output {i}: {text}\")"
   ],
   "id": "215416f63d005e46",
   "outputs": [
    {
     "name": "stdout",
     "output_type": "stream",
     "text": [
      "shape of output_token_ids:  torch.Size([2, 4])\n",
      "output_token_ids: \n",
      " tensor([[38491,  2448, 36069, 24862],\n",
      "        [36397, 15489, 10460, 18747]])\n",
      "output 0:  constants Per Rebels myriad\n",
      "output 1:  Gathering bay 800array\n"
     ]
    }
   ],
   "execution_count": 5
  },
  {
   "metadata": {},
   "cell_type": "markdown",
   "source": "### Loss: Cross-Entropy and Perplexity",
   "id": "e550ca1ef5764591"
  },
  {
   "metadata": {
    "ExecuteTime": {
     "end_time": "2025-06-08T09:24:29.953429Z",
     "start_time": "2025-06-08T09:24:29.950439Z"
    }
   },
   "cell_type": "code",
   "source": [
    "print(\"shape of probas: \",probas.shape)\n",
    "print(\"shape of targets: \",targets.shape)\n",
    "print(targets)\n"
   ],
   "id": "adbeb698f6e1d36",
   "outputs": [
    {
     "name": "stdout",
     "output_type": "stream",
     "text": [
      "shape of probas:  torch.Size([2, 4, 50257])\n",
      "shape of targets:  torch.Size([2, 4])\n",
      "tensor([[1810,  314,  393,  262],\n",
      "        [ 314,  393,  262, 3274]])\n"
     ]
    }
   ],
   "execution_count": 6
  },
  {
   "metadata": {
    "ExecuteTime": {
     "end_time": "2025-06-08T09:24:29.972513Z",
     "start_time": "2025-06-08T09:24:29.968663Z"
    }
   },
   "cell_type": "code",
   "source": [
    "batch_size, seq_len = targets.shape\n",
    "target_probas = torch.empty(batch_size, seq_len)\n",
    "\n",
    "for text_idx in range(batch_size):\n",
    "    positions = torch.arange(seq_len)\n",
    "    #same as probas[0,[0,1,2,3],[2402,  257,  640,  612]], advanced indexing\n",
    "    target_probas[text_idx] = probas[text_idx, positions, targets[text_idx]]\n",
    "    #Note that even for the same token ID, the predicted probabilities can vary across positions or sequences because the model's output depends heavily on the surrounding context.\n",
    "    print(f\"Text {text_idx + 1} target_probas:\", target_probas[text_idx])\n"
   ],
   "id": "f21ae3e75ca8da82",
   "outputs": [
    {
     "name": "stdout",
     "output_type": "stream",
     "text": [
      "Text 1 target_probas: tensor([9.9453e-06, 1.9406e-05, 1.4083e-05, 1.9301e-05])\n",
      "Text 2 target_probas: tensor([1.6926e-05, 2.1976e-05, 1.0548e-05, 1.9390e-05])\n"
     ]
    }
   ],
   "execution_count": 7
  },
  {
   "metadata": {},
   "cell_type": "markdown",
   "source": [
    "#### Cross Entropy Loss\n",
    "\n",
    "For a single classification sample, assume:\n",
    "\n",
    "- True label (one-hot):\n",
    "  $$\\mathbf{y} = (y_1, y_2, \\dots, y_C), \\quad y_i \\in \\{0, 1\\}$$\n",
    "\n",
    "- Predicted probabilities:\n",
    "  $$\\hat{\\mathbf{y}} = (\\hat{y}_1, \\hat{y}_2, \\dots, \\hat{y}_C), \\quad \\sum_{i=1}^C \\hat{y}_i = 1$$\n",
    "\n",
    "---\n",
    "\n",
    "#### Cross Entropy Loss (General Form)\n",
    "\n",
    "$$\n",
    "\\mathcal{L}(\\mathbf{y}, \\hat{\\mathbf{y}}) = - \\sum_{i=1}^C y_i \\log(\\hat{y}_i)\n",
    "$$\n",
    "\n",
    "If the true class is \\(k\\), the formula simplifies to:\n",
    "\n",
    "$$\n",
    "\\mathcal{L} = - \\log(\\hat{y}_k)\n",
    "$$\n",
    "\n",
    "---\n",
    "\n",
    "#### Cross Entropy Over a Batch of \\(N\\) Samples\n",
    "\n",
    "$$\n",
    "\\mathcal{L}_{\\text{batch}} = - \\frac{1}{N} \\sum_{n=1}^N \\sum_{i=1}^C y_i^{(n)} \\log \\left( \\hat{y}_i^{(n)} \\right)\n",
    "$$\n"
   ],
   "id": "529a75dc72059a40"
  },
  {
   "metadata": {
    "ExecuteTime": {
     "end_time": "2025-06-08T09:24:29.992278Z",
     "start_time": "2025-06-08T09:24:29.989455Z"
    }
   },
   "cell_type": "code",
   "source": [
    "neg_log_probas = torch.log(target_probas) * -1\n",
    "print(\"neg_log_probas: \",neg_log_probas)\n",
    "loss = torch.mean(neg_log_probas)\n",
    "print(\"loss: \",loss)"
   ],
   "id": "a7f711896f0272f9",
   "outputs": [
    {
     "name": "stdout",
     "output_type": "stream",
     "text": [
      "neg_log_probas:  tensor([[11.5184, 10.8499, 11.1706, 10.8554],\n",
      "        [10.9867, 10.7256, 11.4596, 10.8508]])\n",
      "loss:  tensor(11.0521)\n"
     ]
    }
   ],
   "execution_count": 8
  },
  {
   "metadata": {
    "ExecuteTime": {
     "end_time": "2025-06-08T09:24:30.015331Z",
     "start_time": "2025-06-08T09:24:30.011368Z"
    }
   },
   "cell_type": "code",
   "source": [
    "print(\"shape of inputs: \",logits.shape) #(batch_size, seq_len, vocab_size)\n",
    "print(\"shape of targets: \",targets.shape)\n",
    "print(\"targets: \\n\",targets) #(batch_size, seq_len)\n",
    "# inputs must be raw logits (unnormalized scores), NOT probabilities\n",
    "# inputs shape: (batch_size * seq_len, vocab_size)\n",
    "# targets shape: (batch_size * seq_len,), containing class indices\n",
    "loss = torch.nn.functional.cross_entropy(logits.view(-1,logits.size(-1)), targets.view(-1))\n",
    "print(\"loss: \",loss)"
   ],
   "id": "eec9532018efd4a2",
   "outputs": [
    {
     "name": "stdout",
     "output_type": "stream",
     "text": [
      "shape of inputs:  torch.Size([2, 4, 50257])\n",
      "shape of targets:  torch.Size([2, 4])\n",
      "targets: \n",
      " tensor([[1810,  314,  393,  262],\n",
      "        [ 314,  393,  262, 3274]])\n",
      "loss:  tensor(11.0521)\n"
     ]
    }
   ],
   "execution_count": 9
  },
  {
   "metadata": {},
   "cell_type": "markdown",
   "source": [
    "#### Perplexity and Cross Entropy Loss\n",
    "\n",
    "Given the average cross entropy loss \\(\\mathcal{L}\\) defined as:\n",
    "\n",
    "$$\n",
    "\\mathcal{L} = - \\frac{1}{N} \\sum_{i=1}^N \\log P(w_i)\n",
    "$$\n",
    "\n",
    "The **perplexity** is computed by exponentiating the loss:\n",
    "\n",
    "$$\n",
    "\\mathrm{Perplexity} = e^{\\mathcal{L}}\n",
    "$$\n",
    "\n",
    "Perplexity can indeed be larger than the vocabulary size, though usually it’s not.\n"
   ],
   "id": "4a0efade7bf3a4fb"
  },
  {
   "metadata": {
    "ExecuteTime": {
     "end_time": "2025-06-08T09:24:30.037960Z",
     "start_time": "2025-06-08T09:24:30.035408Z"
    }
   },
   "cell_type": "code",
   "source": [
    "perplexity = torch.exp(loss)\n",
    "#Note perplexity is larger than vocab_size, which is expected, since the model is not trained yet.\n",
    "print(\"perplexity: \",perplexity)"
   ],
   "id": "7bd5f352b1a8ff22",
   "outputs": [
    {
     "name": "stdout",
     "output_type": "stream",
     "text": [
      "perplexity:  tensor(63076.7070)\n"
     ]
    }
   ],
   "execution_count": 10
  },
  {
   "metadata": {},
   "cell_type": "markdown",
   "source": "### Losses on the training and validation sets\n",
   "id": "43242757c26e2a3b"
  },
  {
   "metadata": {
    "ExecuteTime": {
     "end_time": "2025-06-08T09:24:30.066057Z",
     "start_time": "2025-06-08T09:24:30.057813Z"
    }
   },
   "cell_type": "code",
   "source": [
    "# If you didn't clean the empty lines, LLM may learn to add too many blanks.\n",
    "def clean_text_remove_empty_lines(text: str) -> str:\n",
    "    lines = text.splitlines()\n",
    "    non_empty_lines = [line.strip() for line in lines if line.strip() != \"\"]\n",
    "    return \"\\n\".join(non_empty_lines)\n",
    "\n",
    "with open(\"world_war_ii.txt\", \"r\", encoding=\"utf-8\") as f:\n",
    "    raw_text = f.read()\n",
    "cleaned_text = clean_text_remove_empty_lines(raw_text)\n",
    "\n",
    "print(cleaned_text[:200])\n",
    "tokens = tokenizer.encode(cleaned_text)\n",
    "print(\"Characters: \",len(cleaned_text))\n",
    "print(\"Tokens: \",len(tokens))"
   ],
   "id": "54ac217af9e00aa1",
   "outputs": [
    {
     "name": "stdout",
     "output_type": "stream",
     "text": [
      "World War I or the First World War (28 July 1914 – 11 November 1918), also known as the Great War, was a global conflict between two coalitions: the Allies (or Entente) and the Central Powers. Fightin\n",
      "Characters:  88775\n",
      "Tokens:  18134\n"
     ]
    }
   ],
   "execution_count": 11
  },
  {
   "metadata": {
    "ExecuteTime": {
     "end_time": "2025-06-08T09:24:30.090367Z",
     "start_time": "2025-06-08T09:24:30.078230Z"
    }
   },
   "cell_type": "code",
   "source": [
    "from gpt2 import GPT_CONFIG_124M\n",
    "\n",
    "# Split text data into training and validation sets\n",
    "train_ratio = 0.8\n",
    "split_idx = int(len(cleaned_text) * train_ratio)\n",
    "train_data, val_data = cleaned_text[:split_idx], cleaned_text[split_idx:]\n",
    "print(\"Train data: \", len(train_data))\n",
    "print(\"Val data: \", len(val_data))\n",
    "\n",
    "torch.manual_seed(123)\n",
    "train_loader = dataloader_v1(\n",
    "    train_data, batch_size=2,\n",
    "    context_size=GPT_CONFIG_124M[\"context_length\"],\n",
    "    stride=GPT_CONFIG_124M[\"context_length\"],\n",
    "    drop_last=True, shuffle=True)\n",
    "val_loader = dataloader_v1(\n",
    "    val_data, batch_size=2,\n",
    "    context_size=GPT_CONFIG_124M[\"context_length\"],\n",
    "    stride=GPT_CONFIG_124M[\"context_length\"],\n",
    "    drop_last=False, shuffle=False)\n"
   ],
   "id": "89541052c1784c96",
   "outputs": [
    {
     "name": "stdout",
     "output_type": "stream",
     "text": [
      "Train data:  71020\n",
      "Val data:  17755\n"
     ]
    }
   ],
   "execution_count": 12
  },
  {
   "metadata": {
    "ExecuteTime": {
     "end_time": "2025-06-08T09:24:30.105950Z",
     "start_time": "2025-06-08T09:24:30.102535Z"
    }
   },
   "cell_type": "code",
   "source": [
    "print(\"Train dataloader: \", len(train_loader))\n",
    "train_first_batch = next(iter(train_loader))\n",
    "print(train_first_batch[0].shape, train_first_batch[1].shape)\n",
    "print(\"Val dataloader: \", len(val_loader))\n",
    "val_first_batch = next(iter(val_loader))\n",
    "print(val_first_batch[0].shape, val_first_batch[1].shape)\n"
   ],
   "id": "5e5c630757c48d16",
   "outputs": [
    {
     "name": "stdout",
     "output_type": "stream",
     "text": [
      "Train dataloader:  7\n",
      "torch.Size([2, 1024]) torch.Size([2, 1024])\n",
      "Val dataloader:  2\n",
      "torch.Size([2, 1024]) torch.Size([2, 1024])\n"
     ]
    }
   ],
   "execution_count": 13
  },
  {
   "metadata": {
    "ExecuteTime": {
     "end_time": "2025-06-08T09:24:30.127727Z",
     "start_time": "2025-06-08T09:24:30.124313Z"
    }
   },
   "cell_type": "code",
   "source": [
    "def loss_batch(inputs, targets, model, device):\n",
    "    inputs, targets = inputs.to(device), targets.to(device)\n",
    "    logits = model(inputs)\n",
    "    loss = torch.nn.functional.cross_entropy(logits.flatten(0, 1), targets.flatten(0))\n",
    "    return loss\n",
    "\n",
    "\n",
    "def loss_loader(loader, model, device, num_batches=None):\n",
    "    if len(loader) == 0:\n",
    "        return float('nan')\n",
    "\n",
    "    total_loss = 0.0\n",
    "    # num_batches no more than len(loader), default to len(loader)\n",
    "    num_batches = min(num_batches or len(loader), len(loader))\n",
    "\n",
    "    for i, (inputs, targets) in enumerate(loader):\n",
    "        if i >= num_batches:\n",
    "            break\n",
    "        loss = loss_batch(inputs, targets, model, device)\n",
    "        total_loss += loss.item()\n",
    "\n",
    "    return total_loss / num_batches"
   ],
   "id": "15723db4b3ce982b",
   "outputs": [],
   "execution_count": 14
  },
  {
   "metadata": {
    "ExecuteTime": {
     "end_time": "2025-06-08T09:24:39.395690Z",
     "start_time": "2025-06-08T09:24:30.144117Z"
    }
   },
   "cell_type": "code",
   "source": [
    "# MPS may have some issues when training, using cpu for play\n",
    "# device = (\n",
    "#     torch.device(\"cuda\") if torch.cuda.is_available()\n",
    "#     else torch.device(\"mps\") if torch.backends.mps.is_available()\n",
    "#     else torch.device(\"cpu\")\n",
    "# )\n",
    "device = torch.device(\"cpu\")\n",
    "\n",
    "model.to(device)\n",
    "torch.manual_seed(123)\n",
    "with torch.no_grad():\n",
    "    train_loss = loss_loader(train_loader, model, device)\n",
    "    val_loss = loss_loader(val_loader, model, device)\n",
    "print(\"Train loss: \", train_loss)\n",
    "print(\"Val loss: \", val_loss)"
   ],
   "id": "4e1fb5a7899e0d29",
   "outputs": [
    {
     "name": "stdout",
     "output_type": "stream",
     "text": [
      "Train loss:  11.002508980887276\n",
      "Val loss:  10.987592697143555\n"
     ]
    }
   ],
   "execution_count": 15
  },
  {
   "metadata": {},
   "cell_type": "markdown",
   "source": "### Train",
   "id": "96731e56198e205c"
  },
  {
   "metadata": {
    "ExecuteTime": {
     "end_time": "2025-06-08T09:36:36.634182Z",
     "start_time": "2025-06-08T09:36:36.628615Z"
    }
   },
   "cell_type": "code",
   "source": [
    "\n",
    "def train_model_simple(model, train_loader, val_loader, optimizer, device, num_epochs,\n",
    "                       eval_freq, eval_iter, start_context, tokenizer):\n",
    "    train_losses, val_losses, tokens_seen_track = [], [], []\n",
    "    tokens_seen, step = 0, 0\n",
    "\n",
    "    for epoch in range(num_epochs):\n",
    "        model.train()\n",
    "        for input_batch, target_batch in train_loader:\n",
    "            optimizer.zero_grad()\n",
    "            loss = loss_batch(input_batch, target_batch, model, device)\n",
    "            loss.backward()\n",
    "            optimizer.step()\n",
    "\n",
    "            tokens_seen += input_batch.numel()\n",
    "            step += 1\n",
    "\n",
    "            if step % eval_freq == 0:\n",
    "                train_loss = loss_loader(train_loader, model, device, eval_iter)\n",
    "                val_loss = loss_loader(val_loader, model, device, eval_iter)\n",
    "                train_losses.append(train_loss)\n",
    "                val_losses.append(val_loss)\n",
    "                tokens_seen_track.append(tokens_seen)\n",
    "                print(f\"Ep {epoch+1} (Step {step:06d}): Train loss {train_loss:.3f}, Val loss {val_loss:.3f}\")\n",
    "\n",
    "        generate_and_print_sample(model, tokenizer, device, start_context)\n",
    "\n",
    "    return train_losses, val_losses, tokens_seen_track\n",
    "\n",
    "\n",
    "def generate_and_print_sample(model, tokenizer, device, start_context):\n",
    "    model.eval()\n",
    "    with torch.no_grad():\n",
    "        result = complete_text(start_context, model,20)\n",
    "        print(result)\n",
    "    model.train()\n"
   ],
   "id": "370c1fe6bc408a88",
   "outputs": [],
   "execution_count": 21
  },
  {
   "metadata": {
    "ExecuteTime": {
     "end_time": "2025-06-08T09:36:02.306696Z",
     "start_time": "2025-06-08T09:26:55.229465Z"
    }
   },
   "cell_type": "code",
   "source": [
    "from gpt2 import GPT2Model\n",
    "import time\n",
    "\n",
    "# Set seed for reproducibility\n",
    "torch.manual_seed(123)\n",
    "# Initialize model and optimizer\n",
    "model = GPT2Model(GPT_CONFIG_124M).to(device)\n",
    "optimizer = torch.optim.AdamW(model.parameters(), lr=4e-4, weight_decay=0.1)\n",
    "\n",
    "# Start timer\n",
    "start_time = time.time()\n",
    "\n",
    "# Train the model\n",
    "num_epochs = 10\n",
    "train_losses, val_losses, tokens_seen = train_model_simple(\n",
    "    model=model,\n",
    "    train_loader=train_loader,\n",
    "    val_loader=val_loader,\n",
    "    optimizer=optimizer,\n",
    "    device=device,\n",
    "    num_epochs=num_epochs,\n",
    "    eval_freq=5,\n",
    "    eval_iter=5,\n",
    "    start_context=\"at the start of\",\n",
    "    tokenizer=tokenizer\n",
    ")\n",
    "\n",
    "# Report execution time\n",
    "elapsed = (time.time() - start_time) / 60\n",
    "print(f\"Training completed in {elapsed:.2f} minutes.\")\n"
   ],
   "id": "cb32329ab923e333",
   "outputs": [
    {
     "name": "stdout",
     "output_type": "stream",
     "text": [
      "Ep 1 (Step 000005): Train loss 8.430, Val loss 8.680\n",
      "at the start of the the the the the the the the the the the the the the the the the the the the the the the the the the the the the the the the the the the the the the the the the the the the the the the the the the\n",
      "Ep 2 (Step 000010): Train loss 7.085, Val loss 7.874\n",
      "at the start of the the, the, the, the, the, the, the, the, the, the, the, the, the, the the the the, the, the, the the the, the, the, the, the, the,\n",
      "Ep 3 (Step 000015): Train loss 6.544, Val loss 7.768\n",
      "Ep 3 (Step 000020): Train loss 6.333, Val loss 7.867\n",
      "at the start of the war, the war, and the war, the war, and the war, the war, the war, and the war, and the war, and the war, the war, the war, the war, the war, and the war\n",
      "Ep 4 (Step 000025): Train loss 6.149, Val loss 7.955\n",
      "at the start of the war, and French, and the war, and the war, and the war, and French, and the war, and the war, and the war, and French, and the war, and the war, which, and the war,\n",
      "Ep 5 (Step 000030): Train loss 5.999, Val loss 7.856\n",
      "Ep 5 (Step 000035): Train loss 6.005, Val loss 8.046\n",
      "at the start of the war, and, and, and, and the war, and, and the war, and the war, and the war, and the war.\n",
      "===\n",
      "===\n",
      "===\n",
      "===\n",
      " of the war, the war.\n",
      "===\n",
      "\n",
      "Ep 6 (Step 000040): Train loss 5.695, Val loss 7.746\n",
      "at the start of the war, and French, and the war. The. The, and the war, and French, and the German, and the war, the war, and the war. The German,000, the war. The. The, and the\n",
      "Ep 7 (Step 000045): Train loss 5.378, Val loss 7.734\n",
      "at the start of the war on the war.\n",
      "===\n",
      "==== of the war on the war.\n",
      "===\n",
      "==== of the war.\n",
      "==== of the war.\n",
      "==== British of the war on the war.\n",
      "==== German and the Battle of the war\n",
      "Ep 8 (Step 000050): Train loss 5.066, Val loss 7.661\n",
      "Ep 8 (Step 000055): Train loss 4.779, Val loss 7.621\n",
      "at the start of the war on the war, the war, the German Army, the war, the war, the war on the German, the war on the war on the war on the war, the war. The German Army to the war, the war,\n",
      "Ep 9 (Step 000060): Train loss 4.463, Val loss 7.625\n",
      "at the start of the Battle of the Battle of the war.\n",
      "The, the war.\n",
      "The by the war.\n",
      "==== German, the war on the war. The German forces.\n",
      "The Ottoman Empire, and the war.\n",
      "==== German and the war\n",
      "Ep 10 (Step 000065): Train loss 4.226, Val loss 7.587\n",
      "Ep 10 (Step 000070): Train loss 3.661, Val loss 7.597\n",
      "at the start of the war, and Austria-Hungary and the German Army, and the war.\n",
      "===\n",
      "The German forces to the war, the war, the German, and the war, the war.\n",
      "The German Army, and the war, and\n",
      "Training completed in 9.11 minutes.\n"
     ]
    }
   ],
   "execution_count": 19
  },
  {
   "metadata": {
    "ExecuteTime": {
     "end_time": "2025-06-08T09:26:47.598343Z",
     "start_time": "2025-06-08T09:21:18.847313Z"
    }
   },
   "cell_type": "code",
   "source": [
    "import matplotlib.pyplot as plt\n",
    "from matplotlib.ticker import MaxNLocator\n",
    "\n",
    "def plot_losses(epochs, tokens, train_losses, val_losses):\n",
    "    fig, ax1 = plt.subplots(figsize=(5, 3))\n",
    "\n",
    "    ax1.plot(epochs, train_losses, label=\"Train loss\")\n",
    "    ax1.plot(epochs, val_losses, linestyle=\"--\", label=\"Val loss\")\n",
    "    ax1.set_xlabel(\"Epochs\")\n",
    "    ax1.set_ylabel(\"Loss\")\n",
    "    ax1.legend()\n",
    "    ax1.xaxis.set_major_locator(MaxNLocator(integer=True))\n",
    "\n",
    "    ax2 = ax1.twiny()\n",
    "    ax2.plot(tokens_seen, train_losses, alpha=0)  # Invisible plot for aligning ticks\n",
    "    ax2.set_xlabel(\"Tokens seen\")\n",
    "\n",
    "    fig.tight_layout()\n",
    "    # plt.savefig(\"loss-plot.pdf\")\n",
    "    plt.show()\n",
    "\n",
    "# Example usage\n",
    "epochs_tensor = torch.linspace(0, num_epochs, len(train_losses))\n",
    "plot_losses(epochs_tensor, tokens_seen, train_losses, val_losses)\n"
   ],
   "id": "7d21c133b9acb67f",
   "outputs": [
    {
     "data": {
      "text/plain": [
       "<Figure size 500x300 with 2 Axes>"
      ],
      "image/png": "[encoded data removed]"
     },
     "metadata": {},
     "output_type": "display_data"
    }
   ],
   "execution_count": 19
  },
  {
   "metadata": {},
   "cell_type": "markdown",
   "source": "### Decoding Strategies to control randomness",
   "id": "2259581e4a6b8cae"
  },
  {
   "metadata": {
    "ExecuteTime": {
     "end_time": "2025-06-08T11:35:10.869617Z",
     "start_time": "2025-06-08T11:35:10.154824Z"
    }
   },
   "cell_type": "code",
   "source": [
    "model.to(\"cpu\")\n",
    "model.eval()\n",
    "result = complete_text(\"at the start of\", model,15)\n",
    "print(\"Output text:\\n\", result)\n"
   ],
   "id": "3d1a23fc72ed2dfd",
   "outputs": [
    {
     "name": "stdout",
     "output_type": "stream",
     "text": [
      "Output text:\n",
      " at the start of the war, and Austria-Hungary and the German Army, and the\n"
     ]
    }
   ],
   "execution_count": 292
  },
  {
   "metadata": {},
   "cell_type": "markdown",
   "source": [
    "#### Sample decoding:\n",
    "- Greedy decoding: Select the word with the highest probability (argmax) at each step.\n",
    "\n",
    "- Sampling decoding: Randomly sample the next word from the probability distribution, for example using torch.multinomial."
   ],
   "id": "1e8356fb7cec29a7"
  },
  {
   "metadata": {
    "ExecuteTime": {
     "end_time": "2025-06-08T11:35:38.223866Z",
     "start_time": "2025-06-08T11:35:38.163127Z"
    }
   },
   "cell_type": "code",
   "source": [
    "import torch\n",
    "\n",
    "input_text = \"At the start of the\"\n",
    "input_tensor = text_to_tensor(input_text, tokenizer)\n",
    "print(\"Input tensor: \", input_tensor)\n",
    "\n",
    "logits = model(input_tensor)\n",
    "print(\"Shape of logits: \", logits.shape)\n",
    "\n",
    "next_token_logits = logits[:, -1, :]\n",
    "print(\"Shape of next_token_logits: \", next_token_logits.shape)\n",
    "print(\"next_token_logits: \", next_token_logits)\n",
    "\n",
    "probas = torch.softmax(next_token_logits, dim=-1)\n",
    "next_token_id = torch.argmax(probas, dim=-1).item()\n",
    "print(\"Next token id: \", next_token_id)\n",
    "\n",
    "next_token = tokenizer.decode(next_token_id)\n",
    "print(\"Next token: \", next_token)"
   ],
   "id": "889955a772ef919",
   "outputs": [
    {
     "name": "stdout",
     "output_type": "stream",
     "text": [
      "Input tensor:  tensor([[2953,  262,  923,  286,  262]])\n",
      "Shape of logits:  torch.Size([1, 5, 50257])\n",
      "Shape of next_token_logits:  torch.Size([1, 50257])\n",
      "next_token_logits:  tensor([[-0.4246,  1.7134, -3.7874,  ..., -3.7822, -3.4160, -3.2244]],\n",
      "       grad_fn=<SliceBackward0>)\n",
      "Next token id:  1175\n",
      "Next token:   war\n"
     ]
    }
   ],
   "execution_count": 293
  },
  {
   "metadata": {
    "ExecuteTime": {
     "end_time": "2025-06-08T11:35:42.139289Z",
     "start_time": "2025-06-08T11:35:42.132763Z"
    }
   },
   "cell_type": "code",
   "source": [
    "torch.manual_seed(123)\n",
    "next_token_id = torch.multinomial(probas, num_samples=1).item()\n",
    "print(\"Next token id: \", next_token_id)\n",
    "next_token = tokenizer.decode(next_token_id)\n",
    "print(\"Next token: \", next_token)"
   ],
   "id": "9372b48e12516e8a",
   "outputs": [
    {
     "name": "stdout",
     "output_type": "stream",
     "text": [
      "Next token id:  34158\n",
      "Next token:   Ottoman\n"
     ]
    }
   ],
   "execution_count": 295
  },
  {
   "metadata": {
    "ExecuteTime": {
     "end_time": "2025-06-08T11:35:45.351657Z",
     "start_time": "2025-06-08T11:35:45.175703Z"
    }
   },
   "cell_type": "code",
   "source": [
    "def print_sampled_tokens(probas):\n",
    "    torch.manual_seed(123)\n",
    "    sample = [torch.multinomial(probas, num_samples=1).item() for _ in range(100)]\n",
    "    sampled_ids = torch.bincount(torch.tensor(sample), minlength=probas.shape[-1])\n",
    "    for id, freq in enumerate(sampled_ids):\n",
    "        if freq > 1:\n",
    "            print(f\"{freq} x {tokenizer.decode(id)}\")\n",
    "\n",
    "print_sampled_tokens(probas)\n"
   ],
   "id": "7bf3b0001a1e6267",
   "outputs": [
    {
     "name": "stdout",
     "output_type": "stream",
     "text": [
      "2 x  V\n",
      "2 x  first\n",
      "2 x  two\n",
      "3 x  war\n",
      "2 x  Aust\n",
      "2 x  First\n",
      "2 x  League\n",
      "4 x  French\n",
      "2 x  Pacific\n",
      "2 x  Som\n",
      "2 x  Germans\n",
      "2 x  Triple\n",
      "4 x  Allies\n",
      "3 x  Ottoman\n",
      "2 x  Petro\n"
     ]
    }
   ],
   "execution_count": 296
  },
  {
   "metadata": {
    "ExecuteTime": {
     "end_time": "2025-06-08T11:52:23.134510Z",
     "start_time": "2025-06-08T11:52:23.128800Z"
    }
   },
   "cell_type": "code",
   "source": [
    "import torch\n",
    "\n",
    "#Complete 'At the start of the'\n",
    "possible_text = \"war battle revolution novel experiment day journey movement\"\n",
    "words = possible_text.lower().split()\n",
    "vocab = {word: idx for idx, word in enumerate(words)}\n",
    "inverse_vocab = {idx: word for word, idx in vocab.items()}\n",
    "\n",
    "# Step 2: Generate random logits for each vocab token\n",
    "vocab_size = len(vocab)\n",
    "torch.manual_seed(123)\n",
    "next_token_logits = torch.normal(mean=0.0, std=4.0, size=(vocab_size,))  # increase std to increase randomness\n",
    "\n",
    "# Convert logits to probabilities\n",
    "probas = torch.softmax(next_token_logits, dim=0)\n",
    "\n",
    "# Pick next token by argmax\n",
    "next_token_id = torch.argmax(probas).item()\n",
    "\n",
    "# Decode and print the predicted token\n",
    "print(f\"Next generated token: {inverse_vocab[next_token_id]}\")\n"
   ],
   "id": "7fc286a187b0e82c",
   "outputs": [
    {
     "name": "stdout",
     "output_type": "stream",
     "text": [
      "Next generated token: day\n"
     ]
    }
   ],
   "execution_count": 351
  },
  {
   "metadata": {
    "ExecuteTime": {
     "end_time": "2025-06-08T11:52:36.569641Z",
     "start_time": "2025-06-08T11:52:36.563458Z"
    }
   },
   "cell_type": "code",
   "source": [
    "def print_sampled_tokens(probas):\n",
    "    torch.manual_seed(123)\n",
    "    sample = [torch.multinomial(probas, num_samples=1).item() for _ in range(100)]\n",
    "    sampled_ids = torch.bincount(torch.tensor(sample), minlength=probas.shape[-1])\n",
    "    for id, freq in enumerate(sampled_ids):\n",
    "        print(f\"{freq} x {inverse_vocab[id]}\")\n",
    "\n",
    "print_sampled_tokens(probas)\n"
   ],
   "id": "d346f6d29efff149",
   "outputs": [
    {
     "name": "stdout",
     "output_type": "stream",
     "text": [
      "11 x war\n",
      "31 x battle\n",
      "7 x revolution\n",
      "4 x novel\n",
      "0 x experiment\n",
      "46 x day\n",
      "1 x journey\n",
      "0 x movement\n"
     ]
    }
   ],
   "execution_count": 353
  },
  {
   "metadata": {},
   "cell_type": "markdown",
   "source": "#### Temperature",
   "id": "922be060512e70e"
  },
  {
   "metadata": {
    "ExecuteTime": {
     "end_time": "2025-06-08T11:52:41.600062Z",
     "start_time": "2025-06-08T11:52:41.596442Z"
    }
   },
   "cell_type": "code",
   "source": [
    "def softmax_with_temperature(logits, temperature):\n",
    "    scaled_logits = logits / temperature\n",
    "    return torch.softmax(scaled_logits, dim=-1)\n",
    "\n",
    "# Temperature values\n",
    "temperatures = [1.0, 0.3, 5]\n",
    "\n",
    "# Calculate scaled probabilities\n",
    "scaled_probas = [softmax_with_temperature(next_token_logits, T) for T in temperatures]"
   ],
   "id": "607b02e4c0c3d030",
   "outputs": [],
   "execution_count": 354
  },
  {
   "metadata": {
    "ExecuteTime": {
     "end_time": "2025-06-08T11:52:46.041996Z",
     "start_time": "2025-06-08T11:52:45.969400Z"
    }
   },
   "cell_type": "code",
   "source": [
    "import torch\n",
    "import matplotlib.pyplot as plt\n",
    "\n",
    "# Plotting\n",
    "x = torch.arange(len(vocab))\n",
    "bar_width = 0.2\n",
    "\n",
    "fig, ax = plt.subplots(figsize=(6, 4))\n",
    "\n",
    "for i, T in enumerate(temperatures):\n",
    "    ax.bar(x + i * bar_width, scaled_probas[i], width=bar_width, label=f\"T = {T}\")\n",
    "\n",
    "ax.set_ylabel('Probability')\n",
    "ax.set_xticks(x)\n",
    "ax.set_xticklabels(vocab.keys(), rotation=90)\n",
    "ax.legend()\n",
    "\n",
    "plt.tight_layout()\n",
    "plt.show()\n"
   ],
   "id": "4a75ae4015c447b0",
   "outputs": [
    {
     "data": {
      "text/plain": [
       "<Figure size 600x400 with 1 Axes>"
      ],
      "image/png": "[encoded data removed]"
     },
     "metadata": {},
     "output_type": "display_data"
    }
   ],
   "execution_count": 356
  },
  {
   "metadata": {},
   "cell_type": "markdown",
   "source": "#### top-k Sampling",
   "id": "b04afc1b1df6d198"
  },
  {
   "metadata": {},
   "cell_type": "code",
   "outputs": [],
   "execution_count": null,
   "source": "",
   "id": "e02a8d293b34c6dd"
  }
 ],
 "metadata": {
  "kernelspec": {
   "display_name": "Python 3",
   "language": "python",
   "name": "python3"
  },
  "language_info": {
   "codemirror_mode": {
    "name": "ipython",
    "version": 2
   },
   "file_extension": ".py",
   "mimetype": "text/x-python",
   "name": "python",
   "nbconvert_exporter": "python",
   "pygments_lexer": "ipython2",
   "version": "2.7.6"
  }
 },
 "nbformat": 4,
 "nbformat_minor": 5
}
