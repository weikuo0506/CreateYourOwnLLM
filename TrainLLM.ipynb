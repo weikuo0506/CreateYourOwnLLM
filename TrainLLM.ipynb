{
 "cells": [
  {
   "metadata": {},
   "cell_type": "markdown",
   "source": "### Pretrain on unlabeled data",
   "id": "96029241f3323c0"
  },
  {
   "metadata": {
    "ExecuteTime": {
     "end_time": "2025-06-08T02:09:32.273869Z",
     "start_time": "2025-06-08T02:09:30.936072Z"
    }
   },
   "cell_type": "code",
   "source": [
    "from gpt2 import load_model, complete_text\n",
    "\n",
    "start_context = \"Hello, my name is\"\n",
    "model = load_model()\n",
    "print(complete_text(start_context, model,10))"
   ],
   "id": "initial_id",
   "outputs": [
    {
     "name": "stdout",
     "output_type": "stream",
     "text": [
      "Hello, my name is hauled manyrikesdeconder ZionJS partingachusetts Civic\n"
     ]
    }
   ],
   "execution_count": 2
  },
  {
   "metadata": {},
   "cell_type": "markdown",
   "source": "### loss: Cross-Entropy and Perplexity",
   "id": "e550ca1ef5764591"
  },
  {
   "metadata": {
    "ExecuteTime": {
     "end_time": "2025-06-08T02:22:13.082379Z",
     "start_time": "2025-06-08T02:22:13.056391Z"
    }
   },
   "cell_type": "code",
   "source": [
    "from gpt2 import dataloader_v1\n",
    "\n",
    "with open(\"Peter_Rabbit.txt\", \"r\", encoding=\"utf-8\") as f:\n",
    "    raw_text = f.read()\n",
    "dataloader = dataloader_v1(raw_text,batch_size=2, context_size=4,stride=1)\n",
    "data_iter = iter(dataloader)\n",
    "inputs, targets = next(data_iter)\n",
    "print(\"shape of input: \",inputs.shape)\n",
    "print(\"first batch, input: \\n\", inputs,\"\\n targets: \\n\", targets)"
   ],
   "id": "4421717b10a6f375",
   "outputs": [
    {
     "name": "stdout",
     "output_type": "stream",
     "text": [
      "shape of input:  torch.Size([2, 4])\n",
      "first batch, input: \n",
      " tensor([[7454, 2402,  257,  640],\n",
      "        [2402,  257,  640,  612]]) \n",
      " targets: \n",
      " tensor([[2402,  257,  640,  612],\n",
      "        [ 257,  640,  612,  547]])\n"
     ]
    }
   ],
   "execution_count": 11
  },
  {
   "metadata": {
    "ExecuteTime": {
     "end_time": "2025-06-08T02:23:01.166523Z",
     "start_time": "2025-06-08T02:23:01.162021Z"
    }
   },
   "cell_type": "code",
   "source": [
    "from gpt2 import tensor_to_text,build_tokenizer\n",
    "tokenizer = build_tokenizer()\n",
    "for i in range(inputs.size(0)):\n",
    "    text = tensor_to_text(inputs[i].unsqueeze(0), tokenizer)  # 传入形状 [1, seq_len]，满足函数预期\n",
    "    print(f\"Input {i}: {text}\")\n",
    "\n",
    "for i in range(targets.size(0)):\n",
    "    text = tensor_to_text(targets[i].unsqueeze(0), tokenizer)  # 传入形状 [1, seq_len]，满足函数预期\n",
    "    print(f\"target {i}: {text}\")"
   ],
   "id": "ecd964b80608361d",
   "outputs": [
    {
     "name": "stdout",
     "output_type": "stream",
     "text": [
      "Input 0: Once upon a time\n",
      "Input 1:  upon a time there\n",
      "target 0:  upon a time there\n",
      "target 1:  a time there were\n"
     ]
    }
   ],
   "execution_count": 13
  }
 ],
 "metadata": {
  "kernelspec": {
   "display_name": "Python 3",
   "language": "python",
   "name": "python3"
  },
  "language_info": {
   "codemirror_mode": {
    "name": "ipython",
    "version": 2
   },
   "file_extension": ".py",
   "mimetype": "text/x-python",
   "name": "python",
   "nbconvert_exporter": "python",
   "pygments_lexer": "ipython2",
   "version": "2.7.6"
  }
 },
 "nbformat": 4,
 "nbformat_minor": 5
}
