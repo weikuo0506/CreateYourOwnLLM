{
 "cells": [
  {
   "metadata": {},
   "cell_type": "markdown",
   "source": "# Scaled RoPE",
   "id": "c6c3ca46e32339cd"
  },
  {
   "metadata": {
    "ExecuteTime": {
     "end_time": "2025-07-13T09:21:33.602810Z",
     "start_time": "2025-07-13T09:21:32.183413Z"
    }
   },
   "cell_type": "code",
   "source": [
    "from typing import Optional\n",
    "\n",
    "import torch\n",
    "\n",
    "def precompute_rope_params(\n",
    "    seq_len: int,\n",
    "    head_dim: int,\n",
    "    theta_base: float = 10000.0,\n",
    "    freq_config: Optional[dict] = None,\n",
    "):\n",
    "    \"\"\"\n",
    "    Precompute sin and cos tensors for RoPE with optional frequency scaling/smoothing.\n",
    "\n",
    "    Args:\n",
    "        seq_len: sequence length\n",
    "        head_dim: embedding dimension (must be even)\n",
    "        theta_base: base for inverse frequency calculation (default 10_000)\n",
    "        freq_config: optional dict with keys:\n",
    "            - original_context_length: int, original training context length\n",
    "            - low_freq_factor: float, low freq threshold factor (>1)\n",
    "            - high_freq_factor: float, high freq threshold factor (>1)\n",
    "            - factor: float, scaling factor (>1)\n",
    "\n",
    "    Returns:\n",
    "        sin, cos: tensors of shape (seq_len, head_dim)\n",
    "    \"\"\"\n",
    "    assert head_dim % 2 == 0, \"head_dim must be even\"\n",
    "\n",
    "    half_dim = head_dim // 2\n",
    "    # Compute inverse frequencies\n",
    "    inv_freq = 1.0 / (theta_base ** (torch.arange(half_dim, dtype=torch.float32) / half_dim))\n",
    "\n",
    "    if freq_config is not None:\n",
    "        # Extract frequency config params\n",
    "        orig_len = freq_config[\"original_context_length\"]\n",
    "        low_factor = freq_config[\"low_freq_factor\"]\n",
    "        high_factor = freq_config[\"high_freq_factor\"]\n",
    "        scale_factor = freq_config[\"factor\"]\n",
    "\n",
    "        # Compute wavelength\n",
    "        wavelen = 2 * torch.pi / inv_freq  # shape (half_dim,)\n",
    "\n",
    "        low_wavelen = orig_len / low_factor\n",
    "        high_wavelen = orig_len / high_factor\n",
    "\n",
    "        # Scale inverse freq for low freq bands\n",
    "        inv_freq_scaled = torch.where(wavelen > low_wavelen, inv_freq / scale_factor, inv_freq)\n",
    "\n",
    "        # Compute smooth factor for medium freq band\n",
    "        smooth_factor = (orig_len / wavelen - low_factor) / (high_factor - low_factor)\n",
    "        smooth_factor = smooth_factor.clamp(0.0, 1.0)\n",
    "\n",
    "        smoothed_inv_freq = (1 - smooth_factor) * (inv_freq / scale_factor) + smooth_factor * inv_freq\n",
    "\n",
    "        is_medium = (wavelen <= low_wavelen) & (wavelen >= high_wavelen)\n",
    "        inv_freq = torch.where(is_medium, smoothed_inv_freq, inv_freq_scaled)\n",
    "\n",
    "    # Position indices\n",
    "    positions = torch.arange(seq_len, dtype=torch.float32).unsqueeze(1)  # (seq_len, 1)\n",
    "\n",
    "    # Calculate angles\n",
    "    angles = positions * inv_freq.unsqueeze(0)  # (seq_len, half_dim)\n",
    "\n",
    "    # Duplicate angles to full head_dim (interleave)\n",
    "    angles = torch.cat([angles, angles], dim=-1)  # (seq_len, head_dim)\n",
    "\n",
    "    # Compute sin and cos\n",
    "    sin = torch.sin(angles)\n",
    "    cos = torch.cos(angles)\n",
    "\n",
    "    return sin, cos\n"
   ],
   "id": "initial_id",
   "outputs": [],
   "execution_count": 1
  },
  {
   "metadata": {
    "ExecuteTime": {
     "end_time": "2025-07-13T09:22:02.680177Z",
     "start_time": "2025-07-13T09:22:02.677409Z"
    }
   },
   "cell_type": "code",
   "source": [
    "# Instantiate RoPE parameters\n",
    "\n",
    "llama_3_context_len = 8192\n",
    "llama_3_theta_base = 500_000"
   ],
   "id": "c022b4bffbda1f72",
   "outputs": [],
   "execution_count": 3
  },
  {
   "metadata": {},
   "cell_type": "code",
   "outputs": [],
   "execution_count": null,
   "source": [
    "from Llama2_v1 import rotary_pos_emb\n",
    "\n",
    "# Settings\n",
    "batch_size = 2\n",
    "num_heads = 4\n",
    "head_dim = 16\n",
    "\n",
    "# Instantiate RoPE parameters\n",
    "cos, sin = precompute_rope_params(\n",
    "    head_dim=head_dim,\n",
    "    theta_base=llama_3_theta_base,\n",
    "    context_length=llama_3_context_len\n",
    ")\n",
    "\n",
    "# Dummy query and key tensors\n",
    "torch.manual_seed(123)\n",
    "queries = torch.randn(batch_size, num_heads, llama_3_context_len, head_dim)\n",
    "keys = torch.randn(batch_size, num_heads, llama_3_context_len, head_dim)\n",
    "\n",
    "# Apply rotary position embeddings\n",
    "queries_rot = rotary_pos_emb(queries, cos, sin)\n",
    "keys_rot = rotary_pos_emb(keys, cos, sin)"
   ],
   "id": "2812c3c04dedfb3e"
  }
 ],
 "metadata": {
  "kernelspec": {
   "display_name": "Python 3",
   "language": "python",
   "name": "python3"
  },
  "language_info": {
   "codemirror_mode": {
    "name": "ipython",
    "version": 2
   },
   "file_extension": ".py",
   "mimetype": "text/x-python",
   "name": "python",
   "nbconvert_exporter": "python",
   "pygments_lexer": "ipython2",
   "version": "2.7.6"
  }
 },
 "nbformat": 4,
 "nbformat_minor": 5
}
